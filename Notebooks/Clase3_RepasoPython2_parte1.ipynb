{
  "nbformat": 4,
  "nbformat_minor": 0,
  "metadata": {
    "colab": {
      "name": "Clase3_RepasoPython2_parte1.ipynb",
      "provenance": [],
      "collapsed_sections": []
    },
    "kernelspec": {
      "name": "python3",
      "display_name": "Python 3"
    },
    "language_info": {
      "name": "python"
    }
  },
  "cells": [
    {
      "cell_type": "markdown",
      "source": [
        "# Introducción a Python II\n",
        "\n",
        "## Continuación clase anterior\n",
        "\n",
        "Se recomienda ejecutar paso a paso estas celdas para ir repasando Python. Esto será la base para poder avanzar en el curso de análisis de datos, por lo que también puedes agregar código o comentar las celdas para ir practicando y recordando la sintaxis."
      ],
      "metadata": {
        "id": "YypiMR3C6v-4"
      }
    },
    {
      "cell_type": "code",
      "source": [
        "#Si se desea conecrar a google drive\n",
        "from google.colab import drive\n",
        "drive.mount('/content/drive')"
      ],
      "metadata": {
        "id": "IqV6AFDxgcGO",
        "colab": {
          "base_uri": "https://localhost:8080/"
        },
        "outputId": "8decebd6-f415-49ab-d637-b3571c0af1a3"
      },
      "execution_count": 4,
      "outputs": [
        {
          "output_type": "stream",
          "name": "stdout",
          "text": [
            "Drive already mounted at /content/drive; to attempt to forcibly remount, call drive.mount(\"/content/drive\", force_remount=True).\n"
          ]
        }
      ]
    },
    {
      "cell_type": "code",
      "execution_count": 5,
      "metadata": {
        "id": "DsBW2n5C4bYl",
        "colab": {
          "base_uri": "https://localhost:8080/"
        },
        "outputId": "75a98b73-1d68-49f1-b393-ccae54c1c766"
      },
      "outputs": [
        {
          "output_type": "stream",
          "name": "stdout",
          "text": [
            "/content/drive/MyDrive/Analisis_Datos_202202/Clase3\n"
          ]
        }
      ],
      "source": [
        "#vamos a localizarnos en la carpeta que queremos en nuestro Drive\n",
        "%cd /content/drive/MyDrive/Analisis_Datos_202202/Clase3"
      ]
    },
    {
      "cell_type": "markdown",
      "source": [
        "### Diccionarios\n",
        "Un diccionario en Python es una colección de elementos, donde cada uno tiene una ```llave``` key y un ```valor``` value. Los diccionarios se pueden crear con paréntesis ```{}``` separando con una coma ```,``` cada par ```key: value```. \n",
        "\n",
        "Las claves tienen que ser únicas y estar formadas por un string o un número. \n",
        "\n",
        "En el siguiente ejemplo tenemos tres keys que son el nombre, la edad y el documento."
      ],
      "metadata": {
        "id": "atLjinGs77l_"
      }
    },
    {
      "cell_type": "code",
      "source": [
        "d1 = {\n",
        "  \"Nombre\": \"Sara\",\n",
        "  \"Edad\": 27,\n",
        "  \"Documento\": 1003882\n",
        "}\n",
        "print(d1)"
      ],
      "metadata": {
        "colab": {
          "base_uri": "https://localhost:8080/"
        },
        "id": "LoMQimH777-w",
        "outputId": "9d27c1fc-40ea-47bd-e93b-8569076b9f79"
      },
      "execution_count": 6,
      "outputs": [
        {
          "output_type": "stream",
          "name": "stdout",
          "text": [
            "{'Nombre': 'Sara', 'Edad': 27, 'Documento': 1003882}\n"
          ]
        }
      ]
    },
    {
      "cell_type": "markdown",
      "source": [
        "También podemos ver los diccionarios de le siguiente forma\n"
      ],
      "metadata": {
        "id": "knHgIYp_8GgJ"
      }
    },
    {
      "cell_type": "code",
      "source": [
        "dictionary = {'Asignatura 1' : 'Analisis de datos', 2 : ['a', 2, 3.0], 3.0 : 'Machine Learning', 'Asignatura 4' : 10}\n",
        "print(dictionary)"
      ],
      "metadata": {
        "colab": {
          "base_uri": "https://localhost:8080/"
        },
        "id": "AAvA1u1o7_Ii",
        "outputId": "57686e01-9f7f-4dca-c7fc-d6deb8321abd"
      },
      "execution_count": 7,
      "outputs": [
        {
          "output_type": "stream",
          "name": "stdout",
          "text": [
            "{'Asignatura 1': 'Analisis de datos', 2: ['a', 2, 3.0], 3.0: 'Machine Learning', 'Asignatura 4': 10}\n"
          ]
        }
      ]
    },
    {
      "cell_type": "code",
      "source": [
        "#Con Type podemos saber que typo es la variable dictionary\n",
        "\n",
        "print(type(dictionary))\n"
      ],
      "metadata": {
        "colab": {
          "base_uri": "https://localhost:8080/"
        },
        "id": "RpNCsO5G8JD4",
        "outputId": "768d1cd3-73be-410a-9b3b-bb0080028157"
      },
      "execution_count": 8,
      "outputs": [
        {
          "output_type": "stream",
          "name": "stdout",
          "text": [
            "<class 'dict'>\n"
          ]
        }
      ]
    },
    {
      "cell_type": "code",
      "source": [
        "#Se puede acceder a mostrar la clave, si le entregamos la llave específica\n",
        "print(dictionary['Asignatura 1'])"
      ],
      "metadata": {
        "colab": {
          "base_uri": "https://localhost:8080/"
        },
        "id": "robH6xNV8V3c",
        "outputId": "6ce48260-4788-4a80-b448-ba0643e14dbd"
      },
      "execution_count": 9,
      "outputs": [
        {
          "output_type": "stream",
          "name": "stdout",
          "text": [
            "Analisis de datos\n"
          ]
        }
      ]
    },
    {
      "cell_type": "code",
      "source": [
        "#Dentro de un diccionario, se puede tener tipo string listas, etc. \n",
        "#Esto lo podemos saber con type, y entregando la llave para saber de que tipo es el valor.\n",
        "print(type(dictionary[2]))\n",
        "print(type(dictionary['Asignatura 1']))\n",
        "print(type(dictionary[3.0]))"
      ],
      "metadata": {
        "colab": {
          "base_uri": "https://localhost:8080/"
        },
        "id": "yXI9wc3t8Xcy",
        "outputId": "3dcf9920-53fd-4263-b4ab-d3d116af7db2"
      },
      "execution_count": 10,
      "outputs": [
        {
          "output_type": "stream",
          "name": "stdout",
          "text": [
            "<class 'list'>\n",
            "<class 'str'>\n",
            "<class 'str'>\n"
          ]
        }
      ]
    },
    {
      "cell_type": "code",
      "source": [
        "print(dictionary[2])"
      ],
      "metadata": {
        "colab": {
          "base_uri": "https://localhost:8080/"
        },
        "id": "c52r2MPy8cTr",
        "outputId": "79d2a065-4f00-4d35-e9b6-6a5d3137d2ba"
      },
      "execution_count": 11,
      "outputs": [
        {
          "output_type": "stream",
          "name": "stdout",
          "text": [
            "['a', 2, 3.0]\n"
          ]
        }
      ]
    },
    {
      "cell_type": "code",
      "source": [
        "print(type(dictionary[2]))"
      ],
      "metadata": {
        "colab": {
          "base_uri": "https://localhost:8080/"
        },
        "id": "7Zi7LzSc8fbm",
        "outputId": "34b2a60b-64c4-4217-e411-20472a99cc55"
      },
      "execution_count": 12,
      "outputs": [
        {
          "output_type": "stream",
          "name": "stdout",
          "text": [
            "<class 'list'>\n"
          ]
        }
      ]
    },
    {
      "cell_type": "code",
      "source": [
        "print(dictionary[3.0])\n"
      ],
      "metadata": {
        "colab": {
          "base_uri": "https://localhost:8080/"
        },
        "id": "RuKqUbq68ka2",
        "outputId": "2233e871-e62e-4fe1-a39a-81b74c5ef35e"
      },
      "execution_count": 13,
      "outputs": [
        {
          "output_type": "stream",
          "name": "stdout",
          "text": [
            "Machine Learning\n"
          ]
        }
      ]
    },
    {
      "cell_type": "code",
      "source": [
        "print(type(dictionary[3.0]))"
      ],
      "metadata": {
        "colab": {
          "base_uri": "https://localhost:8080/"
        },
        "id": "atwIzF3-8mr1",
        "outputId": "d2ea40c7-d67f-4b6d-c269-eabb1c17b76f"
      },
      "execution_count": 14,
      "outputs": [
        {
          "output_type": "stream",
          "name": "stdout",
          "text": [
            "<class 'str'>\n"
          ]
        }
      ]
    },
    {
      "cell_type": "code",
      "source": [
        "print(dictionary['Asignatura 4'])\n",
        "print(type(dictionary['Asignatura 4']))"
      ],
      "metadata": {
        "colab": {
          "base_uri": "https://localhost:8080/"
        },
        "id": "Clasu-Sd8s0n",
        "outputId": "d2761736-0792-4e2b-cf50-269b1c3cf6f4"
      },
      "execution_count": 15,
      "outputs": [
        {
          "output_type": "stream",
          "name": "stdout",
          "text": [
            "10\n",
            "<class 'int'>\n"
          ]
        }
      ]
    },
    {
      "cell_type": "markdown",
      "source": [
        "#### Es posible usar el constructor `dict()` para crear un diccionario."
      ],
      "metadata": {
        "id": "FX9-ab6Q8yh6"
      }
    },
    {
      "cell_type": "code",
      "source": [
        "d3 = dict(Nombre='Sara',\n",
        "          Edad=27,\n",
        "          Documento=1003882)\n",
        "print(d3)"
      ],
      "metadata": {
        "colab": {
          "base_uri": "https://localhost:8080/"
        },
        "id": "pfnkAGSn8u-d",
        "outputId": "98146eb6-a3a6-4a2a-bcb5-7f46222cbe7b"
      },
      "execution_count": 16,
      "outputs": [
        {
          "output_type": "stream",
          "name": "stdout",
          "text": [
            "{'Nombre': 'Sara', 'Edad': 27, 'Documento': 1003882}\n"
          ]
        }
      ]
    },
    {
      "cell_type": "markdown",
      "source": [
        ">Algunas propiedades de los diccionario en Python son las siguientes:\n",
        "\n",
        "    -Son dinámicos, pueden crecer o decrecer, se pueden añadir o eliminar elementos.\n",
        "    -Son indexados, los elementos del diccionario son accesibles a través del ```key```.\n",
        "    -Y son anidados, un diccionario puede contener a otro diccionario en su campo ```value```."
      ],
      "metadata": {
        "id": "Z8V2POOnFCVQ"
      }
    },
    {
      "cell_type": "markdown",
      "source": [
        "#### ¿Cómo se puede acceder y modificar los elementos de un diccionario\n",
        "\n",
        "Se puede acceder a los elementos con ```[]``` o con la función ```get()```"
      ],
      "metadata": {
        "id": "9FiIYNs4FGyA"
      }
    },
    {
      "cell_type": "code",
      "source": [
        "dic1 = dict(Nombre='Juan',\n",
        "            Edad=27,\n",
        "            Sexo='F')\n",
        "\n",
        "\n",
        "print(dic1['Nombre'])     \n",
        "print(dic1.get('Nombre')) "
      ],
      "metadata": {
        "colab": {
          "base_uri": "https://localhost:8080/"
        },
        "id": "2uf7u01C81Ma",
        "outputId": "01d855eb-3bfa-49ae-dc36-4eb4a30b97b5"
      },
      "execution_count": 17,
      "outputs": [
        {
          "output_type": "stream",
          "name": "stdout",
          "text": [
            "Juan\n",
            "Juan\n"
          ]
        }
      ]
    },
    {
      "cell_type": "markdown",
      "source": [
        "Para modificar un elemento, se usa ```[]``` con el nombre del key y asignar el valor que queremos."
      ],
      "metadata": {
        "id": "qP9C9_RsFSlD"
      }
    },
    {
      "cell_type": "code",
      "source": [
        "dic1['Nombre']= \"Luis\"\n",
        "print(dic1)"
      ],
      "metadata": {
        "colab": {
          "base_uri": "https://localhost:8080/"
        },
        "id": "X4ylImKPFNpw",
        "outputId": "a12f4626-7848-466b-ccac-94ccc6423873"
      },
      "execution_count": 18,
      "outputs": [
        {
          "output_type": "stream",
          "name": "stdout",
          "text": [
            "{'Nombre': 'Luis', 'Edad': 27, 'Sexo': 'F'}\n"
          ]
        }
      ]
    },
    {
      "cell_type": "code",
      "source": [
        "estudiante = {\n",
        "    \"nombre\": \"Juan Pérez\",\n",
        "    \"edad\": 30,\n",
        "    \"gender\": \"M\",\n",
        "    \"Diestro\" : False\n",
        "}"
      ],
      "metadata": {
        "id": "aTrV-tfQFa7C"
      },
      "execution_count": 19,
      "outputs": []
    },
    {
      "cell_type": "code",
      "source": [
        "estudiante"
      ],
      "metadata": {
        "colab": {
          "base_uri": "https://localhost:8080/"
        },
        "id": "NaYeaIdUFdso",
        "outputId": "f30b0b69-e57c-427c-9493-12db4139df2d"
      },
      "execution_count": 20,
      "outputs": [
        {
          "output_type": "execute_result",
          "data": {
            "text/plain": [
              "{'nombre': 'Juan Pérez', 'edad': 30, 'gender': 'M', 'Diestro': False}"
            ]
          },
          "metadata": {},
          "execution_count": 20
        }
      ]
    },
    {
      "cell_type": "code",
      "source": [
        "# Acceder al valor de una clave\n",
        "edad = estudiante[\"edad\"] # devuelve el valor de 'edad'\n",
        "gender = estudiante.get(\"gender\") # devuelve el valor de 'gender'\n",
        "print(edad)\n",
        "print(gender)"
      ],
      "metadata": {
        "colab": {
          "base_uri": "https://localhost:8080/"
        },
        "id": "f2QtrnjsFhoR",
        "outputId": "b158579f-ac11-4d57-92ea-2a43f499da71"
      },
      "execution_count": 21,
      "outputs": [
        {
          "output_type": "stream",
          "name": "stdout",
          "text": [
            "30\n",
            "M\n"
          ]
        }
      ]
    },
    {
      "cell_type": "code",
      "source": [
        "# Insertar o actualizar un valor:\n",
        "estudiante[\"edad\"] = 25 # actualiza el valor de 'edad'\n",
        "estudiante[\"curso\"] = 3 # inserta una nueva pareja clave - valor\n",
        "print(edad)\n",
        "print(estudiante)"
      ],
      "metadata": {
        "colab": {
          "base_uri": "https://localhost:8080/"
        },
        "id": "m1swU52IFmAN",
        "outputId": "c4ea91aa-d706-4047-cfd2-6d214b31101f"
      },
      "execution_count": 22,
      "outputs": [
        {
          "output_type": "stream",
          "name": "stdout",
          "text": [
            "30\n",
            "{'nombre': 'Juan Pérez', 'edad': 25, 'gender': 'M', 'Diestro': False, 'curso': 3}\n"
          ]
        }
      ]
    },
    {
      "cell_type": "code",
      "source": [
        "# insertar una pareja clave - valor o actualizar si ya existe:\n",
        "estudiante.update({'aprobados':'8'})\n",
        "\n",
        "print(estudiante)"
      ],
      "metadata": {
        "colab": {
          "base_uri": "https://localhost:8080/"
        },
        "id": "Bd_iain7Fq6v",
        "outputId": "c9d74b38-6b25-42d3-ea85-c11922f251d6"
      },
      "execution_count": 23,
      "outputs": [
        {
          "output_type": "stream",
          "name": "stdout",
          "text": [
            "{'nombre': 'Juan Pérez', 'edad': 25, 'gender': 'M', 'Diestro': False, 'curso': 3, 'aprobados': '8'}\n"
          ]
        }
      ]
    },
    {
      "cell_type": "markdown",
      "source": [
        "#### Formas de recorrer un diccionario:\n",
        "\n",
        "Es muy común recorrerlo con for"
      ],
      "metadata": {
        "id": "9I6UTl7SF6l5"
      }
    },
    {
      "cell_type": "code",
      "source": [
        "diccionario =  {'a':1,  'b':2,  'c':3}\n",
        "for key in diccionario:\n",
        "    print(key)"
      ],
      "metadata": {
        "colab": {
          "base_uri": "https://localhost:8080/"
        },
        "id": "jtYGnRVsFtle",
        "outputId": "6da2b9da-4901-4810-8572-a088446e8a03"
      },
      "execution_count": 24,
      "outputs": [
        {
          "output_type": "stream",
          "name": "stdout",
          "text": [
            "a\n",
            "b\n",
            "c\n"
          ]
        }
      ]
    },
    {
      "cell_type": "markdown",
      "source": [
        "Otra forma equivalente de recorrerlo es\n"
      ],
      "metadata": {
        "id": "ueTkC8IIF-lQ"
      }
    },
    {
      "cell_type": "code",
      "source": [
        "diccionario =  {'a':1,  'b':2,  'c':3}\n",
        "for key in diccionario.keys():\n",
        "    print (key)"
      ],
      "metadata": {
        "colab": {
          "base_uri": "https://localhost:8080/"
        },
        "id": "h-oW_bPxF9Ab",
        "outputId": "ca555615-14b6-431d-fe85-b40ebc06ca00"
      },
      "execution_count": 25,
      "outputs": [
        {
          "output_type": "stream",
          "name": "stdout",
          "text": [
            "a\n",
            "b\n",
            "c\n"
          ]
        }
      ]
    },
    {
      "cell_type": "markdown",
      "source": [
        "Para iterar el diccionario accediendo a los valores se puede de hacer :\n"
      ],
      "metadata": {
        "id": "dBTIBcGNGFZ1"
      }
    },
    {
      "cell_type": "code",
      "source": [
        "diccionario =  {'a':1,  'b':2,  'c':3}\n",
        "for key in diccionario:\n",
        "    print(diccionario[key])\n"
      ],
      "metadata": {
        "colab": {
          "base_uri": "https://localhost:8080/"
        },
        "id": "NWfPCToIGDA3",
        "outputId": "0a1b5485-3502-4059-ff62-1cf89f2926bf"
      },
      "execution_count": 26,
      "outputs": [
        {
          "output_type": "stream",
          "name": "stdout",
          "text": [
            "1\n",
            "2\n",
            "3\n"
          ]
        }
      ]
    },
    {
      "cell_type": "code",
      "source": [
        "## Queremos mostrar la llave y el valor\n",
        "for key in diccionario:\n",
        "  print (key, \":\", diccionario[key])"
      ],
      "metadata": {
        "colab": {
          "base_uri": "https://localhost:8080/"
        },
        "id": "wA6u8KwCGHsZ",
        "outputId": "c48cb317-31a0-445a-f743-751a5bdc9f0a"
      },
      "execution_count": 27,
      "outputs": [
        {
          "output_type": "stream",
          "name": "stdout",
          "text": [
            "a : 1\n",
            "b : 2\n",
            "c : 3\n"
          ]
        }
      ]
    },
    {
      "cell_type": "markdown",
      "source": [
        "Otra forma es usando la función `items()` la cual devuelve un diccionario como tuplas `(key,value)`"
      ],
      "metadata": {
        "id": "1HP9DuecGQW_"
      }
    },
    {
      "cell_type": "code",
      "source": [
        "diccionario =  {'a':1,  'b':2,  'c':3}\n",
        "for key, value in diccionario.items():\n",
        "    print(\"El valor de %s es %d\" % (key, value))"
      ],
      "metadata": {
        "colab": {
          "base_uri": "https://localhost:8080/"
        },
        "id": "7G2RekbrGMAp",
        "outputId": "6315b1d2-21a1-450d-ef02-6bb8d806c57b"
      },
      "execution_count": 29,
      "outputs": [
        {
          "output_type": "stream",
          "name": "stdout",
          "text": [
            "El valor de a es 1\n",
            "El valor de b es 2\n",
            "El valor de c es 3\n"
          ]
        }
      ]
    },
    {
      "cell_type": "markdown",
      "source": [
        "### Algunos de los métodos más utilizados son los siguientes:"
      ],
      "metadata": {
        "id": "jMcXtz5fGZL7"
      }
    },
    {
      "cell_type": "markdown",
      "source": [
        "| Método | Acción |\n",
        "|--|--|\n",
        "|diccionario.keys() \t| Devuelve todas las claves del diccionario |\n",
        "|diccionario.values() |\tDevuelve todos los valores del diccionario |\n",
        "|diccionario.pop(clave) |\tElimina la clave del diccionario y devuelve su valor asociado. Si no lo encuentra devuelve error|\n",
        "| diccionario.copy() | Retorna una copia del deccionario\n",
        "|diccionario.clear() |\tVacía el diccionario |\n",
        "|clave in diccionario |\tDevuelve True si el diccionario contiene la clave o False en caso contrario.|\n",
        "|valor in diccionario.values() |\tDevuelve True si el diccionario contiene el valor o False en caso contrario.|"
      ],
      "metadata": {
        "id": "BtMbTj47Gb7F"
      }
    },
    {
      "cell_type": "markdown",
      "source": [
        "### dict()\n",
        "Recibe como parámetro una representación de un diccionario y si es factible, devuelve un diccionario de datos."
      ],
      "metadata": {
        "id": "x1YFnIasGhHm"
      }
    },
    {
      "cell_type": "code",
      "source": [
        "dic =  dict(nombre='nestor', apellido='Plasencia', edad=22)\n",
        "print(dic)"
      ],
      "metadata": {
        "colab": {
          "base_uri": "https://localhost:8080/"
        },
        "id": "7Kc7cNDSGSxM",
        "outputId": "d86dfab0-e193-48a5-e9a2-6ee8bcfd4229"
      },
      "execution_count": 30,
      "outputs": [
        {
          "output_type": "stream",
          "name": "stdout",
          "text": [
            "{'nombre': 'nestor', 'apellido': 'Plasencia', 'edad': 22}\n"
          ]
        }
      ]
    },
    {
      "cell_type": "code",
      "source": [
        "print(type(dic))"
      ],
      "metadata": {
        "colab": {
          "base_uri": "https://localhost:8080/"
        },
        "id": "VIBIXkqvMjc0",
        "outputId": "bdc2b798-f785-4399-f83c-731f7e0e93f2"
      },
      "execution_count": 31,
      "outputs": [
        {
          "output_type": "stream",
          "name": "stdout",
          "text": [
            "<class 'dict'>\n"
          ]
        }
      ]
    },
    {
      "cell_type": "markdown",
      "source": [
        "### zip()\n",
        "Recibe como parámetro dos elementos iterables, ya sea una cadena, una lista o una tupla. Ambos parámetros deben tener el mismo número de elementos. Se devolverá un diccionario relacionando el elemento i-esimo de cada uno de los iterables."
      ],
      "metadata": {
        "id": "X7eWgDsPMxUy"
      }
    },
    {
      "cell_type": "code",
      "source": [
        "dic = dict(zip('abcd',[1,2,3,4]))\n",
        "print(dic)"
      ],
      "metadata": {
        "colab": {
          "base_uri": "https://localhost:8080/"
        },
        "id": "coXWtN9eMuuJ",
        "outputId": "69413992-4ca6-43d5-8c96-4fe98dda1bcf"
      },
      "execution_count": 32,
      "outputs": [
        {
          "output_type": "stream",
          "name": "stdout",
          "text": [
            "{'a': 1, 'b': 2, 'c': 3, 'd': 4}\n"
          ]
        }
      ]
    },
    {
      "cell_type": "code",
      "source": [],
      "metadata": {
        "id": "EHIv4xjKM02p"
      },
      "execution_count": null,
      "outputs": []
    },
    {
      "cell_type": "markdown",
      "source": [
        "\n",
        "### keys()\n",
        "\n",
        "Retorna una lista de elementos, los cuales serán las keys de nuestro diccionario."
      ],
      "metadata": {
        "id": "AXxz5Q0gM_ZW"
      }
    },
    {
      "cell_type": "code",
      "source": [
        "dic = dict(zip('abcd',[1,2,3,4]))\n",
        "keys= dic.keys()\n",
        "print (keys)"
      ],
      "metadata": {
        "colab": {
          "base_uri": "https://localhost:8080/"
        },
        "id": "nJY6Cq1_NAkU",
        "outputId": "0116f76d-f0f7-427b-f4ca-4d51b21c62ae"
      },
      "execution_count": 37,
      "outputs": [
        {
          "output_type": "stream",
          "name": "stdout",
          "text": [
            "dict_keys(['a', 'b', 'c', 'd'])\n"
          ]
        }
      ]
    },
    {
      "cell_type": "code",
      "source": [
        "print(dic.keys())"
      ],
      "metadata": {
        "colab": {
          "base_uri": "https://localhost:8080/"
        },
        "id": "XsR71uAINCkQ",
        "outputId": "f8c11ab4-7f3d-4118-e588-834811c1e4fe"
      },
      "execution_count": 38,
      "outputs": [
        {
          "output_type": "stream",
          "name": "stdout",
          "text": [
            "dict_keys(['a', 'b', 'c', 'd'])\n"
          ]
        }
      ]
    },
    {
      "cell_type": "markdown",
      "source": [
        "#### values()\n",
        "Retorna una lista de elementos, que serán los valores de nuestro diccionario."
      ],
      "metadata": {
        "id": "noN3gnl4NeQM"
      }
    },
    {
      "cell_type": "code",
      "source": [
        "dic = dict(zip('abcd',[1,2,3,4]))\n",
        "values= dic.values()\n",
        "print(values)"
      ],
      "metadata": {
        "colab": {
          "base_uri": "https://localhost:8080/"
        },
        "id": "yArKZzdBNdY1",
        "outputId": "36b420c9-899a-461c-8e79-1a54b6523c49"
      },
      "execution_count": 39,
      "outputs": [
        {
          "output_type": "stream",
          "name": "stdout",
          "text": [
            "dict_values([1, 2, 3, 4])\n"
          ]
        }
      ]
    },
    {
      "cell_type": "markdown",
      "source": [
        "#### pop()\n",
        "Recibe como parámetro una clave, elimina esta y devuelve su valor. Si no lo encuentra, devuelve error.\n",
        "\n"
      ],
      "metadata": {
        "id": "zXiC1I2UNrjs"
      }
    },
    {
      "cell_type": "code",
      "source": [
        "dic = dict(zip('abcd',[1,2,3,4]))\n",
        "valor = dic.pop('b') \n",
        "print(\"valor:\", valor)\n",
        "print(\"diccionario final:\", dic)"
      ],
      "metadata": {
        "colab": {
          "base_uri": "https://localhost:8080/"
        },
        "id": "xAfsnvSHNjdn",
        "outputId": "3dc09046-1f28-43e0-eed2-ba63050f70cb"
      },
      "execution_count": 40,
      "outputs": [
        {
          "output_type": "stream",
          "name": "stdout",
          "text": [
            "valor: 2\n",
            "diccionario final: {'a': 1, 'c': 3, 'd': 4}\n"
          ]
        }
      ]
    },
    {
      "cell_type": "markdown",
      "source": [
        "### clear()\n",
        "Elimina todos los ítems del diccionario dejándolo vacío."
      ],
      "metadata": {
        "id": "bhQHHXQvPtZk"
      }
    },
    {
      "cell_type": "code",
      "source": [
        "dic = dict(zip('abcd',[1,2,3,4]))\n",
        "dic.clear()\n",
        "print(dic)"
      ],
      "metadata": {
        "colab": {
          "base_uri": "https://localhost:8080/"
        },
        "id": "jELBs0dwNuLh",
        "outputId": "97e6ddbe-e7bc-470f-c8c3-ce745cde1076"
      },
      "execution_count": 41,
      "outputs": [
        {
          "output_type": "stream",
          "name": "stdout",
          "text": [
            "{}\n"
          ]
        }
      ]
    },
    {
      "cell_type": "markdown",
      "source": [
        "### get() : ```get(<key>[,<default>])```\n",
        "El método get() nos permite consultar el value para un key determinado. El segundo parámetro es opcional, y en el caso de proporcionarlo es el valor a devolver si no se encuentra la key"
      ],
      "metadata": {
        "id": "wHfKDOoPP2BL"
      }
    },
    {
      "cell_type": "code",
      "source": [
        "dic = dict(zip('abcd',[1,2,3,4]))\n",
        "print(dic.get('a'))"
      ],
      "metadata": {
        "colab": {
          "base_uri": "https://localhost:8080/"
        },
        "id": "C8MwYrHkP2Xf",
        "outputId": "0a4b93d2-3d4b-4220-963f-e78ffa984fbc"
      },
      "execution_count": 42,
      "outputs": [
        {
          "output_type": "stream",
          "name": "stdout",
          "text": [
            "1\n"
          ]
        }
      ]
    },
    {
      "cell_type": "code",
      "source": [
        "#si queremos saber el valor de un key pero no sabemos si está, para que no tire error podemos hacer :\n",
        "dic = dict(zip('abcd',[1,2,3,4]))\n",
        "print(dic.get('z', 'No encontrado'))"
      ],
      "metadata": {
        "colab": {
          "base_uri": "https://localhost:8080/"
        },
        "id": "oEESr87EP-SF",
        "outputId": "85417808-dac7-4c62-ed08-eb350c515a4e"
      },
      "execution_count": 43,
      "outputs": [
        {
          "output_type": "stream",
          "name": "stdout",
          "text": [
            "No encontrado\n"
          ]
        }
      ]
    },
    {
      "cell_type": "markdown",
      "source": [
        "### popitem()\n",
        "Este método elimina de manera aleatoria un elemento del diccionario."
      ],
      "metadata": {
        "id": "sXktHa_kQE42"
      }
    },
    {
      "cell_type": "code",
      "source": [
        "dic = dict(zip('abcd',[1,2,3,4]))\n",
        "dic.popitem()"
      ],
      "metadata": {
        "colab": {
          "base_uri": "https://localhost:8080/"
        },
        "id": "LmOakeMMQBj-",
        "outputId": "0ee8dc79-0d56-4f5b-bd9a-8fcef4567ccc"
      },
      "execution_count": 44,
      "outputs": [
        {
          "output_type": "execute_result",
          "data": {
            "text/plain": [
              "('d', 4)"
            ]
          },
          "metadata": {},
          "execution_count": 44
        }
      ]
    },
    {
      "cell_type": "code",
      "source": [
        "print(dic)"
      ],
      "metadata": {
        "colab": {
          "base_uri": "https://localhost:8080/"
        },
        "id": "FH80fbJHQIWG",
        "outputId": "28aed7a3-0b82-41bb-f21d-1aa2bf307542"
      },
      "execution_count": 45,
      "outputs": [
        {
          "output_type": "stream",
          "name": "stdout",
          "text": [
            "{'a': 1, 'b': 2, 'c': 3}\n"
          ]
        }
      ]
    },
    {
      "cell_type": "markdown",
      "source": [
        "### Diccionarios anidados\n",
        "En Python los diccionarios pueden estar contenidos uno dentro de otro. Podemos ver como los valores anidado1 y anidado2 del diccionario d contienen a su vez otro diccionario."
      ],
      "metadata": {
        "id": "ZVQbMXcZQNTf"
      }
    },
    {
      "cell_type": "code",
      "source": [
        "anidado1 = {\"a\": 1, \"b\": 2}\n",
        "anidado2 = {\"a\": 1, \"b\": 2}\n",
        "d = {\n",
        "  \"anidado1\" : anidado1,\n",
        "  \"anidado2\" : anidado2\n",
        "}\n",
        "print(d)"
      ],
      "metadata": {
        "colab": {
          "base_uri": "https://localhost:8080/"
        },
        "id": "zVY4E6pOQKHe",
        "outputId": "59fd2a2f-c181-4a06-dfb2-969a47c95e22"
      },
      "execution_count": 46,
      "outputs": [
        {
          "output_type": "stream",
          "name": "stdout",
          "text": [
            "{'anidado1': {'a': 1, 'b': 2}, 'anidado2': {'a': 1, 'b': 2}}\n"
          ]
        }
      ]
    },
    {
      "cell_type": "markdown",
      "source": [
        "### update()\n",
        "El método update() se llama sobre un diccionario y tiene como entrada otro diccionario. Los value son actualizados y si alguna key del nuevo diccionario no esta, es añadida."
      ],
      "metadata": {
        "id": "1SWHQUf8QTfW"
      }
    },
    {
      "cell_type": "code",
      "source": [
        "d1 = {'a': 1, 'b': 2}\n",
        "d2 = {'a': 0, 'd': 400}\n",
        "d1.update(d2)\n",
        "print(d1)"
      ],
      "metadata": {
        "colab": {
          "base_uri": "https://localhost:8080/"
        },
        "id": "iTbpJXOYQRXY",
        "outputId": "f27e8698-4039-439f-a2c3-9f0eff9ff701"
      },
      "execution_count": 47,
      "outputs": [
        {
          "output_type": "stream",
          "name": "stdout",
          "text": [
            "{'a': 0, 'b': 2, 'd': 400}\n"
          ]
        }
      ]
    },
    {
      "cell_type": "markdown",
      "source": [
        "### Tupla\n",
        "Una tupla es un conjunto ordenado e inmutable de elementos del mismo o diferente tipo. Las tuplas se representan escribiendo los elementos entre paréntesis y separados por comas. Una tupla puede no contener ningún elemento, es decir, ser una tupla vacía.\n",
        "Las tuplas son muy similares a las listas, pero con dos diferencias. \n",
        "\n",
        "- Son inmutables, lo que significa que no pueden ser modificadas una vez declaradas\n",
        "- En vez de inicializarse con corchetes `{}` se hace con `()`"
      ],
      "metadata": {
        "id": "_FOllysMUv2r"
      }
    },
    {
      "cell_type": "code",
      "source": [
        "tupla = ('Ai', 2, 5.0, 'DP')\n",
        "print(tupla)"
      ],
      "metadata": {
        "colab": {
          "base_uri": "https://localhost:8080/"
        },
        "id": "h-Yiz1P_U3BG",
        "outputId": "779eefe2-6252-43f5-cdfe-5a0d39614a98"
      },
      "execution_count": 49,
      "outputs": [
        {
          "output_type": "stream",
          "name": "stdout",
          "text": [
            "('Ai', 2, 5.0, 'DP')\n"
          ]
        }
      ]
    },
    {
      "cell_type": "code",
      "source": [
        "print(tupla[2])\n",
        "print(type(tupla[2]))"
      ],
      "metadata": {
        "colab": {
          "base_uri": "https://localhost:8080/"
        },
        "id": "R3fOxcrTVIj_",
        "outputId": "1509d34f-5a8a-442f-d422-56dea8496b8c"
      },
      "execution_count": 50,
      "outputs": [
        {
          "output_type": "stream",
          "name": "stdout",
          "text": [
            "5.0\n",
            "<class 'float'>\n"
          ]
        }
      ]
    },
    {
      "cell_type": "markdown",
      "source": [
        "También pueden declararse sin `()`, separando por `,` todos sus elementos."
      ],
      "metadata": {
        "id": "yvE05oGbVTqK"
      }
    },
    {
      "cell_type": "code",
      "source": [
        "tupla = 1, 2, 3\n",
        "print(type(tupla)) \n",
        "print(tupla)  "
      ],
      "metadata": {
        "colab": {
          "base_uri": "https://localhost:8080/"
        },
        "id": "Vcg8aXEUVWfn",
        "outputId": "20d41f2c-1de9-4aba-c835-fa5edd9513ff"
      },
      "execution_count": 51,
      "outputs": [
        {
          "output_type": "stream",
          "name": "stdout",
          "text": [
            "<class 'tuple'>\n",
            "(1, 2, 3)\n"
          ]
        }
      ]
    },
    {
      "cell_type": "code",
      "source": [
        "# como son inmutables, no se puede modificar el valor, intentemos  hacerlo para ver que pasa....\n",
        "tupla = (1, 2, 3)\n",
        "tupla[0] = 5"
      ],
      "metadata": {
        "colab": {
          "base_uri": "https://localhost:8080/",
          "height": 204
        },
        "id": "DhWXxyYJVYfk",
        "outputId": "43c86696-0ff8-499b-f7fd-a0e3378c64b3"
      },
      "execution_count": 52,
      "outputs": [
        {
          "output_type": "error",
          "ename": "TypeError",
          "evalue": "ignored",
          "traceback": [
            "\u001b[0;31m---------------------------------------------------------------------------\u001b[0m",
            "\u001b[0;31mTypeError\u001b[0m                                 Traceback (most recent call last)",
            "\u001b[0;32m<ipython-input-52-f5b204572ece>\u001b[0m in \u001b[0;36m<module>\u001b[0;34m\u001b[0m\n\u001b[1;32m      1\u001b[0m \u001b[0;31m# como son inmutables, no se puede modificar el valor, intentemos  hacerlo para ver que pasa....\u001b[0m\u001b[0;34m\u001b[0m\u001b[0;34m\u001b[0m\u001b[0;34m\u001b[0m\u001b[0m\n\u001b[1;32m      2\u001b[0m \u001b[0mtupla\u001b[0m \u001b[0;34m=\u001b[0m \u001b[0;34m(\u001b[0m\u001b[0;36m1\u001b[0m\u001b[0;34m,\u001b[0m \u001b[0;36m2\u001b[0m\u001b[0;34m,\u001b[0m \u001b[0;36m3\u001b[0m\u001b[0;34m)\u001b[0m\u001b[0;34m\u001b[0m\u001b[0;34m\u001b[0m\u001b[0m\n\u001b[0;32m----> 3\u001b[0;31m \u001b[0mtupla\u001b[0m\u001b[0;34m[\u001b[0m\u001b[0;36m0\u001b[0m\u001b[0;34m]\u001b[0m \u001b[0;34m=\u001b[0m \u001b[0;36m5\u001b[0m\u001b[0;34m\u001b[0m\u001b[0;34m\u001b[0m\u001b[0m\n\u001b[0m",
            "\u001b[0;31mTypeError\u001b[0m: 'tuple' object does not support item assignment"
          ]
        }
      ]
    },
    {
      "cell_type": "markdown",
      "source": [
        "Al igual que las listas y los diccionarios, las tuplas también pueden ser anidadas\n"
      ],
      "metadata": {
        "id": "I8diWkukTmFG"
      }
    },
    {
      "cell_type": "code",
      "source": [
        "tupla = 1, 2, ('a', 'b'), 3\n",
        "print(tupla)      \n",
        "print(tupla[2][0]) "
      ],
      "metadata": {
        "colab": {
          "base_uri": "https://localhost:8080/"
        },
        "id": "VERHq-w1VeJG",
        "outputId": "ad8b96ab-16fd-4f4d-9dc7-c3d3a55c6c8c"
      },
      "execution_count": 54,
      "outputs": [
        {
          "output_type": "stream",
          "name": "stdout",
          "text": [
            "(1, 2, ('a', 'b'), 3)\n",
            "a\n"
          ]
        }
      ]
    },
    {
      "cell_type": "markdown",
      "source": [
        "Es posible convertir una lista en tupla haciendo uso de al función tuple()\n"
      ],
      "metadata": {
        "id": "WKKb0itVVj3w"
      }
    },
    {
      "cell_type": "code",
      "source": [
        "lista = [1, 2, 3]\n",
        "tupla = tuple(lista)\n",
        "print(type(tupla)) \n",
        "print(tupla)  "
      ],
      "metadata": {
        "colab": {
          "base_uri": "https://localhost:8080/"
        },
        "id": "lo-ePgrJVfv-",
        "outputId": "519ae5be-b319-4069-fe4a-0ef553f888ea"
      },
      "execution_count": 55,
      "outputs": [
        {
          "output_type": "stream",
          "name": "stdout",
          "text": [
            "<class 'tuple'>\n",
            "(1, 2, 3)\n"
          ]
        }
      ]
    },
    {
      "cell_type": "markdown",
      "source": [
        "Se puede también asignar el valor de una tupla con n elementos a n variables."
      ],
      "metadata": {
        "id": "oTu5DKPnVpcw"
      }
    },
    {
      "cell_type": "code",
      "source": [
        "l = (1, 2, 3)\n",
        "a, b, c = l\n",
        "print(a)\n",
        "print(b)\n",
        "print(c)"
      ],
      "metadata": {
        "colab": {
          "base_uri": "https://localhost:8080/"
        },
        "id": "XDmSO4ApVlW5",
        "outputId": "6e80ff37-7b88-40ee-870e-de9e4d1ac09a"
      },
      "execution_count": 56,
      "outputs": [
        {
          "output_type": "stream",
          "name": "stdout",
          "text": [
            "1\n",
            "2\n",
            "3\n"
          ]
        }
      ]
    },
    {
      "cell_type": "code",
      "source": [
        "#Se puede usar el metodo count() para contar un elemento dentro de la tupla\n",
        "l = (1, 2, 3, 1, 4, 6, 7, 8, 9, 1, 4)\n",
        "l.count(1)"
      ],
      "metadata": {
        "colab": {
          "base_uri": "https://localhost:8080/"
        },
        "id": "yRuhrbMTVsGk",
        "outputId": "432151b8-7e25-4cc4-eee0-565e7fe07d2a"
      },
      "execution_count": 58,
      "outputs": [
        {
          "output_type": "execute_result",
          "data": {
            "text/plain": [
              "3"
            ]
          },
          "metadata": {},
          "execution_count": 58
        }
      ]
    },
    {
      "cell_type": "markdown",
      "source": [
        "### Conjunto\n",
        "\n",
        "Un conjunto es una set desordenado de valores no repetidos. Los conjuntos de Python son análogos a los conjuntos matemáticos. El tipo de datos que representa a los conjuntos se llama set. El tipo set es mutable: una vez que se ha creado un conjunto, puede ser modificado."
      ],
      "metadata": {
        "id": "Tb4uJvPBV3ha"
      }
    },
    {
      "cell_type": "code",
      "source": [
        "conjunto1 = {'a', 2, 3.0}\n",
        "conjunto2 = {'a', 2, 4.0}\n",
        "print(conjunto1)"
      ],
      "metadata": {
        "colab": {
          "base_uri": "https://localhost:8080/"
        },
        "id": "fXzUjNZvVufi",
        "outputId": "46795e1c-bfd8-48a4-a022-a9b4afd332e4"
      },
      "execution_count": 62,
      "outputs": [
        {
          "output_type": "stream",
          "name": "stdout",
          "text": [
            "{3.0, 2, 'a'}\n"
          ]
        }
      ]
    },
    {
      "cell_type": "code",
      "source": [
        "print(conjunto2)"
      ],
      "metadata": {
        "colab": {
          "base_uri": "https://localhost:8080/"
        },
        "id": "sKqNlo-bWKHB",
        "outputId": "162ea022-2234-49d4-f0d1-84561331b0a6"
      },
      "execution_count": 63,
      "outputs": [
        {
          "output_type": "stream",
          "name": "stdout",
          "text": [
            "{2, 'a', 4.0}\n"
          ]
        }
      ]
    },
    {
      "cell_type": "code",
      "source": [
        "# Valores no repetidos .add\n",
        "conjunto1.add('b')\n",
        "print(conjunto1)"
      ],
      "metadata": {
        "colab": {
          "base_uri": "https://localhost:8080/"
        },
        "id": "map46_-3V9Di",
        "outputId": "90c959ec-df19-47fa-cd3a-ec49e5a1e15f"
      },
      "execution_count": 60,
      "outputs": [
        {
          "output_type": "stream",
          "name": "stdout",
          "text": [
            "{3.0, 2, 'a', 'b'}\n"
          ]
        }
      ]
    },
    {
      "cell_type": "code",
      "source": [
        "# Podemos añadir valores no repetidos al conjunto con .add\n",
        "conjunto1.add('b')\n",
        "print(conjunto1)"
      ],
      "metadata": {
        "colab": {
          "base_uri": "https://localhost:8080/"
        },
        "id": "6lZ-IBDmWEcG",
        "outputId": "8bcb7a39-74fa-49cf-ae93-4de4a8038a06"
      },
      "execution_count": 65,
      "outputs": [
        {
          "output_type": "stream",
          "name": "stdout",
          "text": [
            "{3.0, 2, 'a', 'b'}\n"
          ]
        }
      ]
    },
    {
      "cell_type": "code",
      "source": [
        "# si añadimos un valor que ya esta en la lista no hace nada\n",
        "conjunto1.add(3.0)\n",
        "print(conjunto1)"
      ],
      "metadata": {
        "colab": {
          "base_uri": "https://localhost:8080/"
        },
        "id": "iPxG35IiWSY2",
        "outputId": "925c78c6-d4b2-473d-b952-1526d7caf68c"
      },
      "execution_count": 66,
      "outputs": [
        {
          "output_type": "stream",
          "name": "stdout",
          "text": [
            "{3.0, 2, 'a', 'b'}\n"
          ]
        }
      ]
    },
    {
      "cell_type": "markdown",
      "source": [
        "**Input :**\n",
        "\n",
        "A = (0, 2, 4, 6, 8)\n",
        "\n",
        "B = (1, 2, 3, 4, 5)\n",
        "\n",
        "**Output :**\n",
        " \n",
        " Union : (0, 1, 2, 3, 4, 5, 6, 8)\n",
        " \n",
        " Intersection : (2, 4)\n",
        " \n",
        " Difference : (8, 0, 6)\n",
        " \n",
        " Symmetric difference : (0, 1, 3, 5, 6, 8)\n",
        " \n",
        "```\n",
        "| for union.\n",
        "& for intersection.\n",
        "– for difference\n",
        "^ for symmetric difference\n",
        "\n",
        "```\n",
        " "
      ],
      "metadata": {
        "id": "wVMLWwNwWdJ-"
      }
    },
    {
      "cell_type": "code",
      "source": [
        "# Conjunto 1 y Conjunto 2 lo que tienen ambos en comun: intersección\n",
        "print (conjunto1)\n",
        "print (conjunto2)\n",
        "print(conjunto1 & conjunto2)\n"
      ],
      "metadata": {
        "colab": {
          "base_uri": "https://localhost:8080/"
        },
        "id": "9z3GH_-fWZ7l",
        "outputId": "1355a74f-3c57-4491-bcfb-e407ccdbf2a4"
      },
      "execution_count": 67,
      "outputs": [
        {
          "output_type": "stream",
          "name": "stdout",
          "text": [
            "{3.0, 2, 'a', 'b'}\n",
            "{2, 'a', 4.0}\n",
            "{2, 'a'}\n"
          ]
        }
      ]
    },
    {
      "cell_type": "code",
      "source": [
        "# Conjunto 1 o Conjunto 2 lo que se encuentra en conjunto1 o en el conjunto2: unión\n",
        "print (conjunto1)\n",
        "print (conjunto2)\n",
        "print(conjunto1 | conjunto2)"
      ],
      "metadata": {
        "colab": {
          "base_uri": "https://localhost:8080/"
        },
        "id": "QFexlQEpWlt6",
        "outputId": "54227c20-6c8f-405f-e84e-6f08c482e47d"
      },
      "execution_count": 69,
      "outputs": [
        {
          "output_type": "stream",
          "name": "stdout",
          "text": [
            "{3.0, 2, 'a', 'b'}\n",
            "{2, 'a', 4.0}\n",
            "{2, 3.0, 'a', 4.0, 'b'}\n"
          ]
        }
      ]
    },
    {
      "cell_type": "code",
      "source": [
        "# Le quita los valores comunes\n",
        "print(conjunto1)\n",
        "print(conjunto2)\n",
        "print(conjunto1 - conjunto2)"
      ],
      "metadata": {
        "colab": {
          "base_uri": "https://localhost:8080/"
        },
        "id": "w5gyC6LoWnA7",
        "outputId": "6d81fdf9-a445-4733-defd-29f020780655"
      },
      "execution_count": 70,
      "outputs": [
        {
          "output_type": "stream",
          "name": "stdout",
          "text": [
            "{3.0, 2, 'a', 'b'}\n",
            "{2, 'a', 4.0}\n",
            "{'b', 3.0}\n"
          ]
        }
      ]
    },
    {
      "cell_type": "code",
      "source": [
        "a = (conjunto1 - conjunto2)\n",
        "b = (conjunto2 - conjunto1)\n",
        "c = (a,b)\n",
        "c"
      ],
      "metadata": {
        "colab": {
          "base_uri": "https://localhost:8080/"
        },
        "id": "YMmgLiZLWwAK",
        "outputId": "ec083268-f3e7-4808-b452-1da9303c2bf8"
      },
      "execution_count": 71,
      "outputs": [
        {
          "output_type": "execute_result",
          "data": {
            "text/plain": [
              "({3.0, 'b'}, {4.0})"
            ]
          },
          "metadata": {},
          "execution_count": 71
        }
      ]
    },
    {
      "cell_type": "markdown",
      "source": [
        "###  Cortes de string (cadenas) y listas\n",
        "\n",
        "Recordar que las posiciones en las cadenas de caracteres y listas empiezan a contar desde 0.\n"
      ],
      "metadata": {
        "id": "PEAJTfiKXDhM"
      }
    },
    {
      "cell_type": "code",
      "source": [
        "cadena4 = 'abcdefg'"
      ],
      "metadata": {
        "id": "fWkJ3F1nWzvW"
      },
      "execution_count": 73,
      "outputs": []
    },
    {
      "cell_type": "code",
      "source": [
        "print(cadena4[0:4])"
      ],
      "metadata": {
        "colab": {
          "base_uri": "https://localhost:8080/"
        },
        "id": "4lFwdtjfXF16",
        "outputId": "4c9903a3-4275-49c0-9c6e-17f356eb861d"
      },
      "execution_count": 74,
      "outputs": [
        {
          "output_type": "stream",
          "name": "stdout",
          "text": [
            "abcd\n"
          ]
        }
      ]
    },
    {
      "cell_type": "markdown",
      "source": [
        "En este caso, hemos puesto **[0:4]**, es decir, estamos extrayendo los elementos guardados en las posiciones 0, 1, 2 y 3. Es muy importante tener en cuenta que el primer valor (0) sí que se extraerá, pero no así el último."
      ],
      "metadata": {
        "id": "GjDWnpa2XKHy"
      }
    },
    {
      "cell_type": "code",
      "source": [
        "lista5 = ['a', 'b', 'c', 'd', 'e', 'f', 'g']"
      ],
      "metadata": {
        "id": "1vvpdkYHXHFf"
      },
      "execution_count": 75,
      "outputs": []
    },
    {
      "cell_type": "code",
      "source": [
        "print(lista5[0:4])"
      ],
      "metadata": {
        "colab": {
          "base_uri": "https://localhost:8080/"
        },
        "id": "4WAouL23XNho",
        "outputId": "a56d84ad-2b98-4fda-d5d5-aaddeee441b6"
      },
      "execution_count": 76,
      "outputs": [
        {
          "output_type": "stream",
          "name": "stdout",
          "text": [
            "['a', 'b', 'c', 'd']\n"
          ]
        }
      ]
    },
    {
      "cell_type": "code",
      "source": [
        "#Otra forma de hacer lo mismo es colocar directamente [:posicion]. Se asume que parte de 0\n",
        "print(cadena4[:4])"
      ],
      "metadata": {
        "colab": {
          "base_uri": "https://localhost:8080/"
        },
        "id": "9n5JmocDXQK8",
        "outputId": "0e3b3755-c0fa-462d-e79e-04edc6987490"
      },
      "execution_count": 77,
      "outputs": [
        {
          "output_type": "stream",
          "name": "stdout",
          "text": [
            "abcd\n"
          ]
        }
      ]
    },
    {
      "cell_type": "markdown",
      "source": [
        "Aparte de acceder a los vectores por el primer elemento, también podemos acceder a ellos desde el último empleando el operador `-`"
      ],
      "metadata": {
        "id": "dOT7XRVvXWyo"
      }
    },
    {
      "cell_type": "code",
      "source": [
        "cadena4 = 'abcdefg'\n",
        "print(cadena4[-3:-1])"
      ],
      "metadata": {
        "colab": {
          "base_uri": "https://localhost:8080/"
        },
        "id": "N4ZP-Hw2XSFU",
        "outputId": "979055c5-1736-4764-b2fc-7a0bc1a937eb"
      },
      "execution_count": 78,
      "outputs": [
        {
          "output_type": "stream",
          "name": "stdout",
          "text": [
            "ef\n"
          ]
        }
      ]
    },
    {
      "cell_type": "code",
      "source": [
        "#Si queremos accder al ultimo elemento\n",
        "print(cadena4[-1])"
      ],
      "metadata": {
        "colab": {
          "base_uri": "https://localhost:8080/"
        },
        "id": "qFslfrq_XaDl",
        "outputId": "291174bc-1004-4f7b-e94f-c7a80441e2e1"
      },
      "execution_count": 79,
      "outputs": [
        {
          "output_type": "stream",
          "name": "stdout",
          "text": [
            "g\n"
          ]
        }
      ]
    },
    {
      "cell_type": "code",
      "source": [
        "# Que creen que aparece acá?\n",
        "print(cadena4[-0])"
      ],
      "metadata": {
        "colab": {
          "base_uri": "https://localhost:8080/"
        },
        "id": "9qqqq0sxXdMN",
        "outputId": "47419f5b-5919-4d83-e41f-ceaa6cf67e39"
      },
      "execution_count": 82,
      "outputs": [
        {
          "output_type": "stream",
          "name": "stdout",
          "text": [
            "a\n"
          ]
        }
      ]
    },
    {
      "cell_type": "code",
      "source": [
        "cadena4 = 'abcdefg'\n",
        "print(cadena4[-7:])"
      ],
      "metadata": {
        "colab": {
          "base_uri": "https://localhost:8080/"
        },
        "id": "T4WfuU3sXfsw",
        "outputId": "d7f5c515-65ea-49ac-ed9c-1317bc2dbd61"
      },
      "execution_count": 83,
      "outputs": [
        {
          "output_type": "stream",
          "name": "stdout",
          "text": [
            "abcdefg\n"
          ]
        }
      ]
    },
    {
      "cell_type": "code",
      "source": [
        "# acceder a todos los elementos menos el último\n",
        "print(cadena4[:-1])"
      ],
      "metadata": {
        "colab": {
          "base_uri": "https://localhost:8080/"
        },
        "id": "mtFoNcrWXnc5",
        "outputId": "6bb45812-25fb-4b81-d05e-67e26cb794d1"
      },
      "execution_count": 84,
      "outputs": [
        {
          "output_type": "stream",
          "name": "stdout",
          "text": [
            "abcdef\n"
          ]
        }
      ]
    },
    {
      "cell_type": "code",
      "source": [
        "lista5 = ['a', 'b', 'c', 'd', 'e', 'f', 'g']\n",
        "print(lista5[-3:])"
      ],
      "metadata": {
        "colab": {
          "base_uri": "https://localhost:8080/"
        },
        "id": "uS909cp7Xs5Y",
        "outputId": "79e81cb8-4824-4c2b-9f62-74a2f8c87907"
      },
      "execution_count": 85,
      "outputs": [
        {
          "output_type": "stream",
          "name": "stdout",
          "text": [
            "['e', 'f', 'g']\n"
          ]
        }
      ]
    },
    {
      "cell_type": "code",
      "source": [
        "#Podemos obtener la posicion de un caracter con index\n",
        "cadena4 = 'abcdefghijklmn'\n",
        "indice_c = cadena4.index('i') \n",
        "print(indice_c)"
      ],
      "metadata": {
        "colab": {
          "base_uri": "https://localhost:8080/"
        },
        "id": "yVz0gYy7Xvu1",
        "outputId": "905b4d10-3bfd-42c0-becf-e483d116bbe6"
      },
      "execution_count": 86,
      "outputs": [
        {
          "output_type": "stream",
          "name": "stdout",
          "text": [
            "8\n"
          ]
        }
      ]
    },
    {
      "cell_type": "code",
      "source": [
        "subcadena = cadena4[:indice_c]\n",
        "print(subcadena)"
      ],
      "metadata": {
        "colab": {
          "base_uri": "https://localhost:8080/"
        },
        "id": "__Vs_jo2X44n",
        "outputId": "7c097f52-5d1e-45a8-d35c-293bad53a2b4"
      },
      "execution_count": 87,
      "outputs": [
        {
          "output_type": "stream",
          "name": "stdout",
          "text": [
            "abcdefgh\n"
          ]
        }
      ]
    },
    {
      "cell_type": "code",
      "source": [
        "subcadena = cadena4[:indice_c-3]\n",
        "print(subcadena)"
      ],
      "metadata": {
        "colab": {
          "base_uri": "https://localhost:8080/"
        },
        "id": "cxGMZL8qX9AV",
        "outputId": "1a051f72-2d75-48f0-f47d-5c406d5c6f73"
      },
      "execution_count": 88,
      "outputs": [
        {
          "output_type": "stream",
          "name": "stdout",
          "text": [
            "abcde\n"
          ]
        }
      ]
    },
    {
      "cell_type": "markdown",
      "source": [
        "## Ejercicios para practicar al final de la clase!\n",
        "Teniendo la siguiente cadena \"cadena = \"abcdefg\" obtener:\n",
        "\n",
        "Tips:\n",
        "**cadena[ini:fin].**\n",
        "> obtenemos la subcadena desde el principio hasta la posición 10\n",
        "\n",
        "`subcadena = cadena[:10]`\n",
        "\n",
        ">obtenemos la subcadena desde la posición 10 hasta el final\n",
        "\n",
        "`subcadena = cadena[10:]`\n",
        "\n"
      ],
      "metadata": {
        "id": "MT35Uo85Yn9k"
      }
    },
    {
      "cell_type": "markdown",
      "source": [
        "1) Obtener solo \"b, c, d\""
      ],
      "metadata": {
        "id": "EwtBVOI5ZL8W"
      }
    },
    {
      "cell_type": "code",
      "source": [
        "cadena = \"abcdefg\""
      ],
      "metadata": {
        "id": "_JMShBOYYoZs"
      },
      "execution_count": 89,
      "outputs": []
    },
    {
      "cell_type": "markdown",
      "source": [
        "2) Obtener \"a, c, e\"\n"
      ],
      "metadata": {
        "id": "TTBeaqBaZM9L"
      }
    },
    {
      "cell_type": "code",
      "source": [],
      "metadata": {
        "id": "vHDIHWiWZShC"
      },
      "execution_count": null,
      "outputs": []
    },
    {
      "cell_type": "markdown",
      "source": [
        "3) Usando lo aprendido, como puedo obtener la cadena al revés?  gfedcba"
      ],
      "metadata": {
        "id": "HC4uEHJPZUxT"
      }
    },
    {
      "cell_type": "code",
      "source": [],
      "metadata": {
        "id": "cWP87ja0ZVmI"
      },
      "execution_count": null,
      "outputs": []
    },
    {
      "cell_type": "markdown",
      "source": [
        "4) obtener gec"
      ],
      "metadata": {
        "id": "-TYTT1vEZXle"
      }
    },
    {
      "cell_type": "markdown",
      "source": [
        "# Ciclos\n",
        "\n",
        "***El while se usa hasta conseguir que la condición definida por el ususario es cierta o para correr código infinitamente***\n",
        "\n",
        "    while condicion es cierta:\n",
        "      instruccion\n",
        "      instruccion\n",
        "      .\n",
        "      .\n",
        "      instruccion```\n",
        "\n",
        "***El for se usa para iterar sobre algo, que puede ser una lista o un string***\n",
        "\n",
        "    for i in lista:\n",
        "        instruccion\n",
        "        instruccion\n",
        "        .\n",
        "        .\n",
        "        instruccion\n",
        "\n",
        "***Los ciclos tienen cuatro componentes básicos:***\n",
        "\n",
        "**```Inicialización```:**  Es cuando se debe inicializar la variable que va a iterar, por ejemplo ```i = 0``` o la variable **i** del for (for **i** in lista)\n",
        "\n",
        "**```Condición de repetición```:** Hasta donde se ejecuta el ciclo. Por ejemplo ```for i in range(0,3)``` se ejecutará siempre y cuando i sea 0, 1 y 2. Ej.2: ```while x <= 6``` se ejecutará siempre y cuando x sea menor o igual a 6.\n",
        "\n",
        "**```Cuerpo del ciclo```:** Se ejecutan las instrucciones determinadas por el ususario dentro del ciclo.\n",
        "```Actualizar```: Actualizar la variable que itera para continuar el ciclo. En un ciclo while, es necesario incremetar/disminuir la variable Por ejemplo ```x = x + 1``` , ```x +=1``` . Por otro lado en el for al usar ```range``` por defecto se incrementa en uno. \n",
        "\n",
        "\n",
        "\n",
        "## ¿Cómo podemos imprimir las tablas de multiplicar usando ciclos\n",
        "\n",
        " 1) Necesitamos una varible que almacenará lo que se mostrará en pantalla = string\n",
        " \n",
        " 2) el primer cliclo for nos sirve para definir el rango de la tabla de multiplicar a realizar. Ej tabla del 1 al 3 , se colocará range(1,4)\n",
        " \n",
        " 3) El segundo ciclo, define los digitos que queremos multiplicar por ejemplo del 1 al 10 --> range(1,11)\n",
        " \n",
        " 4) Podemos definir una variable que contenga el valor de la multiplicación que serán los digitos del primer ciclo multiplicado por los digitos del segundo ciclo\n",
        " \n",
        " 5) Finalmente mostramos el resultado y si queremos mostrar con salto de linea, agregrar a la variable almacenadora string.\n",
        " \n",
        " \n",
        "\n"
      ],
      "metadata": {
        "id": "iqp-M8yZamE7"
      }
    },
    {
      "cell_type": "code",
      "source": [
        "string=''\n",
        "\n",
        "for i in range(1,2):\n",
        "    for j in range(1,11):\n",
        "        mult = i * j\n",
        "        string += str(i) + ' * ' +str(j) + ' = ' + str(mult) \n",
        "        string +=\"\\n\"\n",
        "        \n",
        "        \n",
        "print(string)"
      ],
      "metadata": {
        "colab": {
          "base_uri": "https://localhost:8080/"
        },
        "id": "m_XOEZ-LZX3t",
        "outputId": "9860fbf8-56de-488a-8924-d913eaf769a3"
      },
      "execution_count": 92,
      "outputs": [
        {
          "output_type": "stream",
          "name": "stdout",
          "text": [
            "1 * 1 = 1\n",
            "1 * 2 = 2\n",
            "1 * 3 = 3\n",
            "1 * 4 = 4\n",
            "1 * 5 = 5\n",
            "1 * 6 = 6\n",
            "1 * 7 = 7\n",
            "1 * 8 = 8\n",
            "1 * 9 = 9\n",
            "1 * 10 = 10\n",
            "\n"
          ]
        }
      ]
    },
    {
      "cell_type": "markdown",
      "source": [
        "## ¿Cómo se pueden hacer figuras usando ciclos? \n",
        "\n",
        "Vamos a ver como podemos hacer la siguiente figura:\n",
        "\n",
        "    +\n",
        "    ++\n",
        "    +++\n",
        "    ++++\n",
        "    +++++\n",
        "\n",
        "La secuencia es pensar que hay 5 filas y que a medida que la fila aumenta, tambien aumenta el numero de + por columna. Es decir, en la fila 1, hay 1 ```+```: en la fila2, hay 2 ```+```...etc hasta fila n hay n ```+```. \n",
        "Se debe llenar cada fila con asteriscos según el número de fila donde se encuentra la iteración. Al final se concatena un salto de línea. Para ello podemos usar :\n",
        "1. Un ciclo for \n",
        "\n",
        "2. Un ciclo for anidado.\n",
        "\n",
        "3. Concatenar un salto de línea.\n",
        "\n",
        "- Se define el número de filas: ```n=5```\n",
        "\n",
        "- Definimos una variable que contiene lo que vamos a imprimir: ```cointain```\n",
        "\n",
        "- En el primer ciclo for, generamos una variable ```i``` que tenga un ranfo de ```n+1```  ya que ```n``` es igual a 0, 1, 2, 3, 4. En este caso, en la primera vuelta ```i=0``` y no entra en el segundo for porque  no hay rango de 0. Es por ello que para lograr entrar en el segundo for las veces que necesitamos, se debe sumar ```1``` al valor ```n``` : ```range (n+1)```"
      ],
      "metadata": {
        "id": "Q0I2X-KPbQeg"
      }
    },
    {
      "cell_type": "code",
      "source": [
        "n = 5\n",
        "\n",
        "contain =''\n",
        "for i in range(n+1):\n",
        "    for j in range(i):\n",
        "        contain +='+'\n",
        "    if i != n+1:    \n",
        "        contain +='\\n'\n",
        "print(contain)\n",
        "        "
      ],
      "metadata": {
        "colab": {
          "base_uri": "https://localhost:8080/"
        },
        "id": "g7Y6fza7bPNu",
        "outputId": "c6582345-df78-4360-a5b8-3b49f33dc561"
      },
      "execution_count": 93,
      "outputs": [
        {
          "output_type": "stream",
          "name": "stdout",
          "text": [
            "\n",
            "+\n",
            "++\n",
            "+++\n",
            "++++\n",
            "+++++\n",
            "\n"
          ]
        }
      ]
    },
    {
      "cell_type": "markdown",
      "source": [
        "## Hacer la misma figura al revés \n",
        "    +++++\n",
        "    ++++\n",
        "    +++\n",
        "    ++\n",
        "    +\n",
        " \n",
        " Iteración 0: ```5 - 0 = 5```\n",
        " \n",
        " Iteración 1: ```5 - 1 = 4```\n",
        " \n",
        " Iteración 2: ```5 - 2 = 3```\n",
        " \n",
        " Iteración 4: ```5 - 3 = 2```\n",
        " \n",
        " Iteración 5: ```5 - 4 = 1```"
      ],
      "metadata": {
        "id": "MWAc1cT8bWjC"
      }
    },
    {
      "cell_type": "code",
      "source": [
        "n = 5\n",
        "contain=''\n",
        "for i in range(n):\n",
        "    for j in range(n - i): \n",
        "        contain += '+'\n",
        "    contain += '\\n' \n",
        "print(contain)"
      ],
      "metadata": {
        "colab": {
          "base_uri": "https://localhost:8080/"
        },
        "id": "-ijX5JNIbEdX",
        "outputId": "80a866ad-2875-459b-ec51-a8cd78566abd"
      },
      "execution_count": 94,
      "outputs": [
        {
          "output_type": "stream",
          "name": "stdout",
          "text": [
            "+++++\n",
            "++++\n",
            "+++\n",
            "++\n",
            "+\n",
            "\n"
          ]
        }
      ]
    },
    {
      "cell_type": "markdown",
      "source": [
        "# Funciones\n",
        "\n",
        "- Las funciones nos permiten agrupar instrucciones y reutilizarlas.\n",
        "- Una funcion puede devolver un valor o no devolver nada. Por ejemplo, ya hemos usado anteriormente la función ```print()``` que muestra por pantalla lo que le entregamos y la función ```input()``` que solo almacena el input entregado por el usuario.\n",
        "- Las funciones se pueden llamar desde el espacio de trabajo principal como ```función()```. Ej. ```print()```, ```len()```\n",
        "- Tambien se pueden llamar dentro de objetos como ```objeto.función()```. Ej. ```\"hola\".upper```\n",
        "- Se pueden llamar dentro de las clases como ```Clase.función()```. Ej. ```LinearRegression().fit()```\n",
        "- Se pueden llamar ademas dentro de módulos como ```módulo.función()``` Ej. ```math.sqrt()```\n",
        "\n",
        "### Algunas carateristicas\n",
        "\n",
        "- Se pueden importar desde un archivo o desde librerías externas \n",
        "- Se organizan en torno a clases y módulos\n",
        "- Se usan para la programación ***modular*** : Dividir un programa en funciones independientes.\n",
        "- Pueden tener tres partes: ***nombre***, ***parámetros*** y ***valor de retorno***\n",
        "```nombre``` no puede ser una palabra reservada  y se define como ```def```nombre_funcion\n",
        "\n",
        "***Ejemplo de donde es adecuado usar una función: Realizar una calculadora simple: se puede hacer en funciones independientes la suma, resta, multiplicación y división.***\n",
        "\n",
        "~~~\n",
        "def nombre_de_funcion(param1,param2, etc. ):\n",
        "    #Se especifica que hace la función o se agrega una descripción de la función entre comillas triples\n",
        "    \"\"\"Funcion que realiza una operación de tipo X y devuelve un valor Z\"\"\"\n",
        "    # Instrucciones se identa de 4 espacios\n",
        "    instruccion\n",
        "    instruccion\n",
        "    .\n",
        "    .\n",
        "    return value\n",
        "    \n",
        "~~~"
      ],
      "metadata": {
        "id": "Ey2Fm8g8b0VM"
      }
    },
    {
      "cell_type": "code",
      "source": [
        "def mostrar_menu():\n",
        "    \"\"\"Funcion menu imprime el menú de opciones del banco \"\"\"\n",
        "    print (\"\\n¡Bienvenido al Banco Amigo!\")\n",
        "    print (\"Escoja una opción:\")\n",
        "    opcion = int(input(\"1. Consultar saldo\\n2. Hacer depósito\\n3. Realizar giro\\n4. Salir\\n\"))\n",
        "    \n",
        "    return opcion"
      ],
      "metadata": {
        "id": "fr94RrJxb8zX"
      },
      "execution_count": 95,
      "outputs": []
    },
    {
      "cell_type": "code",
      "source": [
        "opcion = mostrar_menu()"
      ],
      "metadata": {
        "colab": {
          "base_uri": "https://localhost:8080/"
        },
        "id": "jk8X9Onkb9FL",
        "outputId": "bf9371f9-49e8-4935-a36b-48da2111e831"
      },
      "execution_count": 96,
      "outputs": [
        {
          "name": "stdout",
          "output_type": "stream",
          "text": [
            "\n",
            "¡Bienvenido al Banco Amigo!\n",
            "Escoja una opción:\n",
            "1. Consultar saldo\n",
            "2. Hacer depósito\n",
            "3. Realizar giro\n",
            "4. Salir\n",
            "1\n"
          ]
        }
      ]
    },
    {
      "cell_type": "code",
      "source": [
        "def mostrar_saldo(saldo):\n",
        "    print (\"Tu saldo es de {}\".format(saldo))"
      ],
      "metadata": {
        "id": "nJtCkFNZb_LI"
      },
      "execution_count": 97,
      "outputs": []
    },
    {
      "cell_type": "code",
      "source": [
        "saldo = 100000\n",
        "mostrar_saldo(saldo)"
      ],
      "metadata": {
        "colab": {
          "base_uri": "https://localhost:8080/"
        },
        "id": "s_jaH-Y5cEOs",
        "outputId": "5a03f929-039e-4833-c49c-e7e4d7af27be"
      },
      "execution_count": 98,
      "outputs": [
        {
          "output_type": "stream",
          "name": "stdout",
          "text": [
            "Tu saldo es de 100000\n"
          ]
        }
      ]
    },
    {
      "cell_type": "code",
      "source": [
        "help(mostrar_menu)"
      ],
      "metadata": {
        "colab": {
          "base_uri": "https://localhost:8080/"
        },
        "id": "fqTYJpA1cF1L",
        "outputId": "461e9b92-3ff1-4382-a010-739527cf9ddb"
      },
      "execution_count": 99,
      "outputs": [
        {
          "output_type": "stream",
          "name": "stdout",
          "text": [
            "Help on function mostrar_menu in module __main__:\n",
            "\n",
            "mostrar_menu()\n",
            "    Funcion menu imprime el menú de opciones del banco\n",
            "\n"
          ]
        }
      ]
    },
    {
      "cell_type": "code",
      "source": [
        "def incrementar_en_uno(numero):\n",
        "    \"\"\" \n",
        "    Esta función recibe cualquier numero y lo incrementa en 1. Imprime por pantalla el total de ese incremento\n",
        "    \"\"\"\n",
        "    total = numero + 1     \n",
        "    print(\"El resultado es: \", total)   "
      ],
      "metadata": {
        "id": "tMS5E7hXcHhC"
      },
      "execution_count": 100,
      "outputs": []
    },
    {
      "cell_type": "code",
      "source": [
        "incrementar_en_uno(20)"
      ],
      "metadata": {
        "colab": {
          "base_uri": "https://localhost:8080/"
        },
        "id": "Jk2nCB5scMYt",
        "outputId": "e3c4fab4-ebd8-43bd-9a4e-f19833fd948f"
      },
      "execution_count": 101,
      "outputs": [
        {
          "output_type": "stream",
          "name": "stdout",
          "text": [
            "El resultado es:  21\n"
          ]
        }
      ]
    },
    {
      "cell_type": "code",
      "source": [
        "incrementar_en_uno(5.0)"
      ],
      "metadata": {
        "colab": {
          "base_uri": "https://localhost:8080/"
        },
        "id": "rtbofli4cPdF",
        "outputId": "83aaeb6f-a1f5-457a-808c-ecf8dce26614"
      },
      "execution_count": 102,
      "outputs": [
        {
          "output_type": "stream",
          "name": "stdout",
          "text": [
            "El resultado es:  6.0\n"
          ]
        }
      ]
    },
    {
      "cell_type": "code",
      "source": [
        "# la función no acepta str\n",
        "incrementar_en_uno('4')"
      ],
      "metadata": {
        "colab": {
          "base_uri": "https://localhost:8080/",
          "height": 294
        },
        "id": "DkRslivKcRWf",
        "outputId": "d1ccb2cc-0c3b-451f-f366-9188e87f7343"
      },
      "execution_count": 103,
      "outputs": [
        {
          "output_type": "error",
          "ename": "TypeError",
          "evalue": "ignored",
          "traceback": [
            "\u001b[0;31m---------------------------------------------------------------------------\u001b[0m",
            "\u001b[0;31mTypeError\u001b[0m                                 Traceback (most recent call last)",
            "\u001b[0;32m<ipython-input-103-675726ba1109>\u001b[0m in \u001b[0;36m<module>\u001b[0;34m\u001b[0m\n\u001b[1;32m      1\u001b[0m \u001b[0;31m# la función no acepta str\u001b[0m\u001b[0;34m\u001b[0m\u001b[0;34m\u001b[0m\u001b[0;34m\u001b[0m\u001b[0m\n\u001b[0;32m----> 2\u001b[0;31m \u001b[0mincrementar_en_uno\u001b[0m\u001b[0;34m(\u001b[0m\u001b[0;34m'4'\u001b[0m\u001b[0;34m)\u001b[0m\u001b[0;34m\u001b[0m\u001b[0;34m\u001b[0m\u001b[0m\n\u001b[0m",
            "\u001b[0;32m<ipython-input-100-7aa507929776>\u001b[0m in \u001b[0;36mincrementar_en_uno\u001b[0;34m(numero)\u001b[0m\n\u001b[1;32m      3\u001b[0m     \u001b[0mEsta\u001b[0m \u001b[0mfunción\u001b[0m \u001b[0mrecibe\u001b[0m \u001b[0mcualquier\u001b[0m \u001b[0mnumero\u001b[0m \u001b[0my\u001b[0m \u001b[0mlo\u001b[0m \u001b[0mincrementa\u001b[0m \u001b[0men\u001b[0m \u001b[0;36m1.\u001b[0m \u001b[0mImprime\u001b[0m \u001b[0mpor\u001b[0m \u001b[0mpantalla\u001b[0m \u001b[0mel\u001b[0m \u001b[0mtotal\u001b[0m \u001b[0mde\u001b[0m \u001b[0mese\u001b[0m \u001b[0mincremento\u001b[0m\u001b[0;34m\u001b[0m\u001b[0;34m\u001b[0m\u001b[0m\n\u001b[1;32m      4\u001b[0m     \"\"\"\n\u001b[0;32m----> 5\u001b[0;31m     \u001b[0mtotal\u001b[0m \u001b[0;34m=\u001b[0m \u001b[0mnumero\u001b[0m \u001b[0;34m+\u001b[0m \u001b[0;36m1\u001b[0m\u001b[0;34m\u001b[0m\u001b[0;34m\u001b[0m\u001b[0m\n\u001b[0m\u001b[1;32m      6\u001b[0m     \u001b[0mprint\u001b[0m\u001b[0;34m(\u001b[0m\u001b[0;34m\"El resultado es: \"\u001b[0m\u001b[0;34m,\u001b[0m \u001b[0mtotal\u001b[0m\u001b[0;34m)\u001b[0m\u001b[0;34m\u001b[0m\u001b[0;34m\u001b[0m\u001b[0m\n",
            "\u001b[0;31mTypeError\u001b[0m: can only concatenate str (not \"int\") to str"
          ]
        }
      ]
    },
    {
      "cell_type": "code",
      "source": [
        "help(incrementar_en_uno)"
      ],
      "metadata": {
        "colab": {
          "base_uri": "https://localhost:8080/"
        },
        "id": "yVygUi7hcTQV",
        "outputId": "e18fe7fc-c3e1-4b04-c10c-9d26fbe80ebe"
      },
      "execution_count": 104,
      "outputs": [
        {
          "output_type": "stream",
          "name": "stdout",
          "text": [
            "Help on function incrementar_en_uno in module __main__:\n",
            "\n",
            "incrementar_en_uno(numero)\n",
            "    Esta función recibe cualquier numero y lo incrementa en 1. Imprime por pantalla el total de ese incremento\n",
            "\n"
          ]
        }
      ]
    },
    {
      "cell_type": "code",
      "source": [
        "# La misma función pero en vez de imprimir, retornará el número \n",
        "def incrementar_en_uno(numero):\n",
        "    \"\"\" \n",
        "    Esta función recibe cualquier número y lo incrementa en 1. Retorna el total de ese incremento\n",
        "    \"\"\"\n",
        "    total = numero + 1    \n",
        "    return total"
      ],
      "metadata": {
        "id": "-97LqFHzcXIe"
      },
      "execution_count": 105,
      "outputs": []
    },
    {
      "cell_type": "code",
      "source": [
        "help(incrementar_en_uno)"
      ],
      "metadata": {
        "colab": {
          "base_uri": "https://localhost:8080/"
        },
        "id": "56PEouNNcdRo",
        "outputId": "ae643ea8-20df-4985-e2d8-6f3afdbaf1aa"
      },
      "execution_count": 106,
      "outputs": [
        {
          "output_type": "stream",
          "name": "stdout",
          "text": [
            "Help on function incrementar_en_uno in module __main__:\n",
            "\n",
            "incrementar_en_uno(numero)\n",
            "    Esta función recibe cualquier número y lo incrementa en 1. Retorna el total de ese incremento\n",
            "\n"
          ]
        }
      ]
    },
    {
      "cell_type": "code",
      "source": [
        "# Aqui en notebooks si se ve pero en un script que se corre por consola no se verá\n",
        "a = incrementar_en_uno(30)\n",
        "print(a)"
      ],
      "metadata": {
        "colab": {
          "base_uri": "https://localhost:8080/"
        },
        "id": "Mlvl6FwOcej_",
        "outputId": "9a7d60a1-b664-4115-e9c8-d169b0d2a591"
      },
      "execution_count": 107,
      "outputs": [
        {
          "output_type": "stream",
          "name": "stdout",
          "text": [
            "31\n"
          ]
        }
      ]
    },
    {
      "cell_type": "code",
      "source": [
        "numero = int(input(\"Ingrese el numero a incrementar:\\n\"))"
      ],
      "metadata": {
        "colab": {
          "base_uri": "https://localhost:8080/"
        },
        "id": "mvGjIBefcgsP",
        "outputId": "b94e281a-1b5e-4b35-8cab-5190b598e390"
      },
      "execution_count": 108,
      "outputs": [
        {
          "name": "stdout",
          "output_type": "stream",
          "text": [
            "Ingrese el numero a incrementar:\n",
            "4\n"
          ]
        }
      ]
    },
    {
      "cell_type": "code",
      "source": [
        "# Una forma es mostrar explixitamente el retorno\n",
        "print(incrementar_en_uno(numero)) "
      ],
      "metadata": {
        "colab": {
          "base_uri": "https://localhost:8080/"
        },
        "id": "5-WN8vSNcixh",
        "outputId": "b5379b03-c2d2-4ba8-81a7-0543fb22470a"
      },
      "execution_count": 109,
      "outputs": [
        {
          "output_type": "stream",
          "name": "stdout",
          "text": [
            "5\n"
          ]
        }
      ]
    },
    {
      "cell_type": "code",
      "source": [
        "# Otra forma de mostrar es \n",
        "\n",
        "incremento = incrementar_en_uno(10)\n",
        "print (incremento)"
      ],
      "metadata": {
        "colab": {
          "base_uri": "https://localhost:8080/"
        },
        "id": "tlsfznpBck7X",
        "outputId": "2b6a4831-b5e7-4163-e484-a1c991ea4650"
      },
      "execution_count": 110,
      "outputs": [
        {
          "output_type": "stream",
          "name": "stdout",
          "text": [
            "11\n"
          ]
        }
      ]
    },
    {
      "cell_type": "code",
      "source": [],
      "metadata": {
        "id": "tkqvtQJpcm9d"
      },
      "execution_count": null,
      "outputs": []
    }
  ]
}