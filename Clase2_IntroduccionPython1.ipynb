{
  "cells": [
    {
      "cell_type": "markdown",
      "metadata": {
        "id": "view-in-github",
        "colab_type": "text"
      },
      "source": [
        "<a href=\"https://colab.research.google.com/github/malegria01/AnalisisDatos_ACI777_2022/blob/main/Clase2_IntroduccionPython1.ipynb\" target=\"_parent\"><img src=\"https://colab.research.google.com/assets/colab-badge.svg\" alt=\"Open In Colab\"/></a>"
      ]
    },
    {
      "cell_type": "markdown",
      "id": "c782b6f9",
      "metadata": {
        "id": "c782b6f9"
      },
      "source": [
        "# Introducción a Python \n",
        "\n",
        "## Parte práctica\n",
        "\n",
        "Se recomienda ejecutar paso a paso estas celdas para ir repasando Python. Esto será la base para poder avanzar en el curso de análisis de datos, por lo que también puedes agregar código o comentar las celdas para ir practicando y recordando la sintaxis.\n",
        "\n",
        "# Conectar google Drive\n",
        "\n",
        "Podemos ejecutar el siguiente código o simplemente no tener este código y presionar la  zona de la izquierda y click en \"Activar unidad de Drive\" y el código automaticamente aparecerá."
      ]
    },
    {
      "cell_type": "code",
      "source": [
        "from google.colab import drive\n",
        "drive.mount('/content/drive')"
      ],
      "metadata": {
        "id": "IqV6AFDxgcGO"
      },
      "id": "IqV6AFDxgcGO",
      "execution_count": null,
      "outputs": []
    },
    {
      "cell_type": "code",
      "source": [
        "#Si quiero saber donde estoy puedo ejecutar códigos de bash anteponiendo \"%\" o \"!\"\n",
        "%pwd"
      ],
      "metadata": {
        "id": "cBe3GZ9ihIME"
      },
      "id": "cBe3GZ9ihIME",
      "execution_count": null,
      "outputs": []
    },
    {
      "cell_type": "code",
      "source": [
        "#vamos a localizarnos en la carpeta que queremos en nuestro Drive\n",
        "%cd /content/drive/MyDrive/Analisis_Datos_202202/Clase2"
      ],
      "metadata": {
        "id": "aHpVoY6XhYTh"
      },
      "id": "aHpVoY6XhYTh",
      "execution_count": null,
      "outputs": []
    },
    {
      "cell_type": "markdown",
      "id": "9ee9d416",
      "metadata": {
        "id": "9ee9d416"
      },
      "source": [
        "#Ahora si... Veamos Python\n",
        "### El comando \"print ()\"\n",
        "Este comando nos muestra por pantalla lo que le entregamos como argumento. Ejemplo: si queremos ver el texto \"Hola mundo\":"
      ]
    },
    {
      "cell_type": "code",
      "execution_count": null,
      "id": "9ac717e8",
      "metadata": {
        "id": "9ac717e8"
      },
      "outputs": [],
      "source": [
        "# Si la línea comienza con \"#\" significa que es un comentario y el interprete no lo ejecutará\n",
        "# Esta línea es un comentario\n",
        "print (\"Hola mundo\")"
      ]
    },
    {
      "cell_type": "code",
      "execution_count": null,
      "id": "60fd9147",
      "metadata": {
        "id": "60fd9147"
      },
      "outputs": [],
      "source": [
        "# aca tambien comentario\n",
        "\"\"\"\n",
        "Comentario multilínea:\n",
        "Python\n",
        "lo\n",
        "ignorará\n",
        "\"\"\"\n",
        "print(\"hola\")"
      ]
    },
    {
      "cell_type": "markdown",
      "id": "6a3386d7",
      "metadata": {
        "id": "6a3386d7"
      },
      "source": [
        "### Palabras Reservadas\n",
        "Corresponden a ciertas palabras que poseen un significado predefinido en el lenguaje y por tanto no se pueden utilizar para nombrar variables. Podemos solicitar la lista de palabras reservadas en Python con:"
      ]
    },
    {
      "cell_type": "code",
      "execution_count": null,
      "id": "c898fff2",
      "metadata": {
        "id": "c898fff2"
      },
      "outputs": [],
      "source": [
        "import keyword \n",
        "keyword.kwlist"
      ]
    },
    {
      "cell_type": "markdown",
      "id": "18f3e7aa",
      "metadata": {
        "id": "18f3e7aa"
      },
      "source": [
        "### Variables\n",
        "* Las variables tienen un nombre y se le asigna un valor\n",
        "* Pueden ser de distinto tipo dependiendo del valor asignado\n",
        "* Así cada variable corresponde a un **objeto**\n",
        "\n",
        "Veamos algunos ejemplos\n",
        "\n"
      ]
    },
    {
      "cell_type": "code",
      "execution_count": null,
      "id": "92311d93",
      "metadata": {
        "id": "92311d93"
      },
      "outputs": [],
      "source": [
        "soy_un_numero = 22\n",
        "soy_una_variable = \"Repasando Python\""
      ]
    },
    {
      "cell_type": "markdown",
      "id": "071f83a2",
      "metadata": {
        "id": "071f83a2"
      },
      "source": [
        "El uso de espacios para definir una variable es incorrecto"
      ]
    },
    {
      "cell_type": "code",
      "execution_count": null,
      "id": "b9770e2e",
      "metadata": {
        "scrolled": true,
        "id": "b9770e2e"
      },
      "outputs": [],
      "source": [
        "una varible = \"Repasando Python\""
      ]
    },
    {
      "cell_type": "markdown",
      "id": "b8ac753e",
      "metadata": {
        "id": "b8ac753e"
      },
      "source": [
        "### String\n",
        "Un string es una cadena de caracteres y puede escribirse con comillas simples o dobles"
      ]
    },
    {
      "cell_type": "code",
      "execution_count": null,
      "id": "25cc23c1",
      "metadata": {
        "id": "25cc23c1"
      },
      "outputs": [],
      "source": [
        "nombre = 'Melissa'\n",
        "apellido = \"Alegría\"\n",
        "print (nombre)\n",
        "print (apellido)\n"
      ]
    },
    {
      "cell_type": "markdown",
      "id": "d3abfb24",
      "metadata": {
        "id": "d3abfb24"
      },
      "source": [
        "\n",
        "Para usar las comillas simples en un print se puede usar comillas simples o dobles, dependiendo de lo que se quiera imprimir"
      ]
    },
    {
      "cell_type": "code",
      "execution_count": null,
      "id": "445668f5",
      "metadata": {
        "id": "445668f5"
      },
      "outputs": [],
      "source": [
        "print('Como la cadena ha sido creada con comillas simples, las comillas dobles (\") aparecerán en el texto sin problema.')\n",
        "print(\"Como la cadena ha sido creada con comillas dobles, las comillas simples (') aparecerán en el texto sin problema.\")"
      ]
    },
    {
      "cell_type": "code",
      "execution_count": null,
      "id": "d23b9ad2",
      "metadata": {
        "id": "d23b9ad2"
      },
      "outputs": [],
      "source": [
        "#Esto generará una error\n",
        "print(\"Como la cadena ha sido creada con comillas simples, las comillas dobles (\") aparecerán en el texto sin problema.\")\n",
        "\n"
      ]
    },
    {
      "cell_type": "markdown",
      "id": "febf9efa",
      "metadata": {
        "id": "febf9efa"
      },
      "source": [
        "En los string se puede emplear los operadores suma (+) y multiplicación (*) para operar con las cadenas de caracteres. Con el primer operador concatenaremos las cadenas que estamos \"sumando\", mientras que con el segundo repetiremos la cadena tantas veces como el número que la multiplica."
      ]
    },
    {
      "cell_type": "code",
      "execution_count": null,
      "id": "fb4a32ea",
      "metadata": {
        "id": "fb4a32ea"
      },
      "outputs": [],
      "source": [
        "#Concatenar string: Se debe asignar o concatener el espacio que separa los string Ej: string1 + \" \" + string2\n",
        "print (\"Mi nombre es \" + nombre + \" \" + apellido)"
      ]
    },
    {
      "cell_type": "markdown",
      "id": "6727a4e9",
      "metadata": {
        "id": "6727a4e9"
      },
      "source": [
        "Otra forma de obtener la misma salida es por interpolación"
      ]
    },
    {
      "cell_type": "code",
      "execution_count": null,
      "id": "892db654",
      "metadata": {
        "id": "892db654"
      },
      "outputs": [],
      "source": [
        "#Interpolación\n",
        "apellido2 = \"Arcos\"\n",
        "print (\"Mi nombre es {} {} {}\".format(nombre, apellido, apellido2))"
      ]
    },
    {
      "cell_type": "code",
      "execution_count": null,
      "id": "c89b52b1",
      "metadata": {
        "id": "c89b52b1"
      },
      "outputs": [],
      "source": [
        "# Además podemos asignar esta concatenación a una variable y repetir esta salida usando multiplcación (*).\n",
        "# Notar que \\n se refiere a un salto de línea\n",
        "saludo = \"Mi nombre es \" + nombre + \" \" + apellido + \"\\n\"\n",
        "print (saludo)\n",
        "print(3*saludo)"
      ]
    },
    {
      "cell_type": "markdown",
      "source": [
        "Se puede concatenar con el método ```str.join()``` el cual recibe como argumento una lista, de string que se desean concatenar.\n",
        "> Este método tambien sirve para Tuplas, String y  Diccionarios\n"
      ],
      "metadata": {
        "id": "KGqkLz3BocV1"
      },
      "id": "KGqkLz3BocV1"
    },
    {
      "cell_type": "code",
      "source": [
        "strings = ['do', 're', 'mi']\n",
        "separador = ' - '\n",
        "separador.join(strings)"
      ],
      "metadata": {
        "id": "Nez2QqmEodey"
      },
      "id": "Nez2QqmEodey",
      "execution_count": null,
      "outputs": []
    },
    {
      "cell_type": "code",
      "source": [
        "#Si no queremos añadir un separado\n",
        "strings = ['do', 're', 'mi']\n",
        "''.join(strings)"
      ],
      "metadata": {
        "id": "pvaSYTq1ohfb"
      },
      "id": "pvaSYTq1ohfb",
      "execution_count": null,
      "outputs": []
    },
    {
      "cell_type": "markdown",
      "source": [
        " El método ```str.format()``` sirve para concatenar no solamente con  el uso de ```print()```"
      ],
      "metadata": {
        "id": "SwSGSgzAo3_5"
      },
      "id": "SwSGSgzAo3_5"
    },
    {
      "cell_type": "code",
      "source": [
        "# Ordenado por defecto:\n",
        "frase = \"Meses: {}, {} y {}\".format('Enero','Febrero','Marzo')\n",
        "print(frase)\n",
        "\n",
        "# Especificar el orden indicando la posición:\n",
        "frase = \"Meses: {1}, {0} y {2}\".format('Enero','Febrero','Marzo')\n",
        "print(frase)\n",
        "\n",
        "# Especificar el orden mediante parejas clave-valor:\n",
        "frase = \"Meses: {ene}, {feb} y {mar}\".format(ene='Enero', feb='Febrero',mar='Marzo')\n",
        "print(frase)\n",
        "\n",
        "#Podemos también hacer uso directo del print()\n",
        "print(\"Meses: {}, {} y {}\".format('Enero','Febrero','Marzo'))\n",
        "print(\"Meses: {1}, {0} y {2}\".format('Enero','Febrero','Marzo'))\n",
        "print(\"Meses: {ene}, {feb} y {mar}\".format(ene='Enero', feb='Febrero',mar='Marzo'))"
      ],
      "metadata": {
        "id": "jcVpYhfro2eY"
      },
      "id": "jcVpYhfro2eY",
      "execution_count": null,
      "outputs": []
    },
    {
      "cell_type": "code",
      "execution_count": null,
      "id": "41e79990",
      "metadata": {
        "id": "41e79990"
      },
      "outputs": [],
      "source": [
        "# Con variable.count se puede contar cuantas \"s\" tiene el string\n",
        "print(nombre.count(\"s\"))"
      ]
    },
    {
      "cell_type": "code",
      "execution_count": null,
      "id": "f0a37e6d",
      "metadata": {
        "id": "f0a37e6d"
      },
      "outputs": [],
      "source": [
        "#Además con len, es posible obtener el largo del string = len(variable)\n",
        "print(len(apellido))"
      ]
    },
    {
      "cell_type": "code",
      "execution_count": null,
      "id": "86e5063a",
      "metadata": {
        "id": "86e5063a"
      },
      "outputs": [],
      "source": [
        "# Con upper(), podemos cambiar todo a mayúscula y con lower() todo a minuscula\n",
        "print(nombre.upper())\n"
      ]
    },
    {
      "cell_type": "code",
      "execution_count": null,
      "id": "b47be604",
      "metadata": {
        "id": "b47be604"
      },
      "outputs": [],
      "source": [
        "print(nombre.lower())"
      ]
    },
    {
      "cell_type": "code",
      "execution_count": null,
      "id": "3dc0c5b2",
      "metadata": {
        "id": "3dc0c5b2"
      },
      "outputs": [],
      "source": [
        "cadena3 = nombre + \" \" + apellido\n",
        "cadena3\n",
        "a = cadena3.count(\"a\")\n",
        "a"
      ]
    },
    {
      "cell_type": "markdown",
      "id": "0e3409cb",
      "metadata": {
        "id": "0e3409cb"
      },
      "source": [
        "Empleando las posiciones se puede acceder a los elementos de las cadenas de caracteres. Para ello, siempre hay que tener en cuenta que el primer elemento de la cadena está ubicado en la posición 0."
      ]
    },
    {
      "cell_type": "code",
      "execution_count": null,
      "id": "214d4484",
      "metadata": {
        "id": "214d4484"
      },
      "outputs": [],
      "source": [
        "cadena = 'Repasando Python!'\n",
        "\n",
        "print(cadena[0])\n",
        "print(cadena[3])\n",
        "print(cadena[12])\n",
        "print(cadena[14])\n",
        "print(cadena[15])"
      ]
    },
    {
      "cell_type": "markdown",
      "id": "96597269",
      "metadata": {
        "id": "96597269"
      },
      "source": [
        "## Variables numéricas y operadores\n",
        "### Tipos de Objeto\n",
        "**Integer**: Corresponde a un número entero.\n",
        "\n",
        "**Float**: Corresponde a un número decimal.\n",
        "\n",
        "**Time**: Corresponde a una fecha y hora.\n",
        "\n",
        "**Boolean**: Corresponde a True o False. Son el resultado de una evaluación.\n",
        "\n",
        "**None**: corresponde a la ausencia de un valor."
      ]
    },
    {
      "cell_type": "code",
      "execution_count": null,
      "id": "f077876e",
      "metadata": {
        "id": "f077876e"
      },
      "outputs": [],
      "source": [
        "entero = 5\n",
        "flotante = 1.6\n",
        "\n",
        "print(entero)\n",
        "print(flotante)"
      ]
    },
    {
      "cell_type": "markdown",
      "id": "5d5dd8bd",
      "metadata": {
        "id": "5d5dd8bd"
      },
      "source": [
        "Se puede operar con los dos tipos de variables utilizando los operadores suma (+), resta (-), multiplicación (*) y división (/). Debemos tener en cuenta que el resultado de cualquier operación realizada con variables flotantes será otra variable flotante. El resultado de cualquier operación realizada con variables enteras, será otra variable entera, a excepción de la división, que será flotante."
      ]
    },
    {
      "cell_type": "markdown",
      "id": "c077bbc7",
      "metadata": {
        "id": "c077bbc7"
      },
      "source": [
        "\n",
        "\n",
        "\n",
        "Operador | Nombre\n",
        ":--------: | -------\n",
        "+ | Suma\n",
        "- | Resta  \n",
        "* | Multiplicación\n",
        "/ | División\n",
        "**  | Potencia\n",
        "%  | Módulo o residuo de división\n",
        "// | división entera\n",
        "\n",
        "Recordar el orden de las operaciones, primero las **potencias** luego **multiplicacion** o **division** o **módulo** y finalmente **suma** o **resta**\n",
        "\n"
      ]
    },
    {
      "cell_type": "code",
      "execution_count": null,
      "id": "c7e8fe50",
      "metadata": {
        "scrolled": true,
        "id": "c7e8fe50"
      },
      "outputs": [],
      "source": [
        "int1 = 5\n",
        "int2 = 10\n",
        "float1 = 5.0\n",
        "float2 = 10.0\n",
        "\n",
        "print(int1 + int2)\n",
        "print(int1 - int2)\n",
        "print(int1 * int2)\n",
        "print(int2 / int1)\n",
        "print('\\n')\n",
        "print(float1 + float2)\n",
        "print(float1 - float2)\n",
        "print(float1 * float2)\n",
        "print(float2 / float1)"
      ]
    },
    {
      "cell_type": "markdown",
      "id": "3be4fdb6",
      "metadata": {
        "id": "3be4fdb6"
      },
      "source": [
        "También es posible mezclar variables que son tipo intergers (enteras) y float (flotantes) en una operación. Sin embargo, notar que el resultado será de tipo float\n"
      ]
    },
    {
      "cell_type": "code",
      "execution_count": null,
      "id": "0f10fc07",
      "metadata": {
        "id": "0f10fc07"
      },
      "outputs": [],
      "source": [
        "print(int1 + float2)\n",
        "print(int1 - float2)\n",
        "print(int1 * float2)\n",
        "print(float2 / int1)"
      ]
    },
    {
      "cell_type": "code",
      "execution_count": null,
      "id": "9f836fc6",
      "metadata": {
        "id": "9f836fc6"
      },
      "outputs": [],
      "source": [
        "int1 = 100\n",
        "int2 = 3\n",
        "float1 = 5\n",
        "float2 = 3.0\n",
        "\n",
        "print(int1 ** int2)\n",
        "print(int2 / int1)\n",
        "print(int2 // int1)\n",
        "print(int2 % int1)\n",
        "print('\\n')\n",
        "print(float1 ** float2)\n",
        "print(float2 / float1)\n",
        "print(float2 // float1)\n",
        "print(float2 % float1)\n",
        "print(float1 + int1)\n",
        "\n",
        "print(int2 // float1)"
      ]
    },
    {
      "cell_type": "markdown",
      "id": "d92ebb63",
      "metadata": {
        "id": "d92ebb63"
      },
      "source": [
        "### Función type\n",
        "Esta función nos mostrará el tipo de variable que estamos utilizando y se puede emplear para cualquier tipo de variable."
      ]
    },
    {
      "cell_type": "code",
      "execution_count": null,
      "id": "d6292552",
      "metadata": {
        "id": "d6292552"
      },
      "outputs": [],
      "source": [
        "print(type(2))\n",
        "print(type(2.0))"
      ]
    },
    {
      "cell_type": "markdown",
      "id": "8f84bfcc",
      "metadata": {
        "id": "8f84bfcc"
      },
      "source": [
        "### Función input\n",
        "Se puede obtener un valor que el usuario ingrese, ejemplo:"
      ]
    },
    {
      "cell_type": "code",
      "execution_count": null,
      "id": "34e8a27e",
      "metadata": {
        "id": "34e8a27e"
      },
      "outputs": [],
      "source": [
        "valor = int(input())"
      ]
    },
    {
      "cell_type": "markdown",
      "id": "18876bb7",
      "metadata": {
        "id": "18876bb7"
      },
      "source": [
        "### Ejercicio Fahrenheit\n",
        "Vamos a transformar la temperatura que ingrese el usuario en Fahrenheir y mostraremos la salida en celsius por pantalla"
      ]
    },
    {
      "cell_type": "code",
      "execution_count": null,
      "id": "e607696b",
      "metadata": {
        "id": "e607696b"
      },
      "outputs": [],
      "source": [
        "fahrenheit = int(input())\n",
        "celsius = (fahrenheit + 40) / 1.8 - 40\n",
        "print(\"La temperatura es de {} celsius\".format(celsius))\n"
      ]
    },
    {
      "cell_type": "markdown",
      "id": "70d7db67",
      "metadata": {
        "id": "70d7db67"
      },
      "source": [
        "## Conversion de tipos de variables\n",
        "Utilizando las funciones int(), float() y str(), se pueden convertir las variables de un tipo a otro. \n",
        "Cuidado al convertir flotantes a enteros, o cadenas de caracteres a enteros o flotantes.\n"
      ]
    },
    {
      "cell_type": "code",
      "execution_count": null,
      "id": "0073c240",
      "metadata": {
        "id": "0073c240"
      },
      "outputs": [],
      "source": [
        "entero = 1\n",
        "flotante = 1.9\n",
        "cadena = '1'\n",
        "cadena2 = '1.0'\n",
        "cadena3 = 'Hello, world!'\n",
        "\n",
        "print(type(entero))\n",
        "entero_new = float(entero)\n",
        "print(type(entero_new))\n",
        "print('\\n')\n",
        "print(str(entero))\n",
        "entero_str = str(entero)\n",
        "print(type(entero_str))\n",
        "print('\\n')\n",
        "\n"
      ]
    },
    {
      "cell_type": "code",
      "execution_count": null,
      "id": "b8a43a71",
      "metadata": {
        "id": "b8a43a71"
      },
      "outputs": [],
      "source": [
        "\n",
        "flotante = 1.9\n",
        "print(int(flotante))\n",
        "print(str(flotante))\n"
      ]
    },
    {
      "cell_type": "code",
      "execution_count": null,
      "id": "e7cc253e",
      "metadata": {
        "id": "e7cc253e"
      },
      "outputs": [],
      "source": [
        "print(int(cadena))\n",
        "cadena = int(cadena)\n",
        "type(cadena)"
      ]
    },
    {
      "cell_type": "code",
      "execution_count": null,
      "id": "2a4cb8f5",
      "metadata": {
        "id": "2a4cb8f5"
      },
      "outputs": [],
      "source": [
        "cadena = float(cadena)\n",
        "type(cadena)"
      ]
    },
    {
      "cell_type": "code",
      "execution_count": null,
      "id": "7c30ac79",
      "metadata": {
        "id": "7c30ac79"
      },
      "outputs": [],
      "source": [
        "cadena2= 1\n",
        "print(cadena2)\n",
        "# print(int(cadena2)) #Esta línea de código da error.\n",
        "print(int(float(cadena2)))\n",
        "print('\\n')\n",
        "# print(int(cadena3)) #Esta línea de código da error.\n",
        "# print(float(cadena3)) #Esta línea de código da error."
      ]
    },
    {
      "cell_type": "markdown",
      "source": [
        "### No olvidar que podemos tener problemas si concatenamos variables deferentes (interger, float por ejemplo)\n"
      ],
      "metadata": {
        "id": "IpnMrX-XpoGc"
      },
      "id": "IpnMrX-XpoGc"
    },
    {
      "cell_type": "code",
      "source": [
        "edad = 23\n",
        "size_calzado = 7.3\n",
        "print(\"Tengo \" + edad + \" años y calzo \" + size_calzado)"
      ],
      "metadata": {
        "id": "6CnrcPQxpnR2"
      },
      "id": "6CnrcPQxpnR2",
      "execution_count": null,
      "outputs": []
    },
    {
      "cell_type": "markdown",
      "source": [
        "#### Lo podemos solucionar con `str()` "
      ],
      "metadata": {
        "id": "kPRCSOovpum3"
      },
      "id": "kPRCSOovpum3"
    },
    {
      "cell_type": "code",
      "source": [
        "edad = 23\n",
        "size_calzado = 7.3\n",
        "print(\"Tengo \" + str(edad) + \" años y calzo \" + str(size_calzado))"
      ],
      "metadata": {
        "id": "LfvYioJlpthU"
      },
      "id": "LfvYioJlpthU",
      "execution_count": null,
      "outputs": []
    },
    {
      "cell_type": "markdown",
      "source": [
        "#Siguiendo con los Strings...\n",
        "### Cadenas 'f' (f-strings)\n",
        "\n",
        "Es una forma directa para insertar variables y expresiones en cadenas. Permiten introducir cualquier variable o expresión dentro de un string incluyendo la variable entre llaves `{ ` y `}`"
      ],
      "metadata": {
        "id": "PuznPSPep8pl"
      },
      "id": "PuznPSPep8pl"
    },
    {
      "cell_type": "code",
      "source": [
        "#Para indicar que se trata de un f-string, \n",
        "#este deberá incluir la letra 'f' antes del comiendo de la cadena \n",
        "#es decir, antes de las comillas. \n",
        "\n",
        "nombre = \"Marcela\"\n",
        "edad = 52\n",
        "saludo = f\"Me llamo {nombre} y tengo {edad} años.\"\n",
        "print(saludo)"
      ],
      "metadata": {
        "id": "_o7HdFRFqENi"
      },
      "id": "_o7HdFRFqENi",
      "execution_count": null,
      "outputs": []
    },
    {
      "cell_type": "markdown",
      "source": [
        "## Recordar métodos útiles para String\n",
        "\n",
        "| Método | Acción |\n",
        "|--|--|\n",
        "|len(str) |  devuelve la longitud del string |\n",
        "|str.upper() | convierte a mayúsculas |\n",
        "|str.lower() | convierte a minúsculas |\n",
        "|str.title() | convierte a mayúsculas la primera letra de cada palabra\n",
        "|str.count(substring [, inicio, fin]) | devuelve el número de veces que aparece |\n",
        "|str.find(‘d’) | devuelve el índice de la primera aparición de 'd' (devolverá -1 si no lo encuentra)|\n",
        "|substr in str | devuelve True si el string contiene el substring |\n",
        "|str.replace(old, new [, count]) | reemplaza 'old' por 'new' un máximo de 'count' veces. |\n",
        "|str.isnumeric() | devuelve True si str contiene solamente números|\n",
        "\n",
        "\n"
      ],
      "metadata": {
        "id": "GJo0mWKvqNmC"
      },
      "id": "GJo0mWKvqNmC"
    },
    {
      "cell_type": "code",
      "source": [
        "a = 4\n",
        "b = 3\n",
        "print(f\"La multiplicación de {a} y {b} es igual a {a * b}\")"
      ],
      "metadata": {
        "id": "qo_BzHTzqJp-"
      },
      "id": "qo_BzHTzqJp-",
      "execution_count": null,
      "outputs": []
    },
    {
      "cell_type": "markdown",
      "id": "292c3a2a",
      "metadata": {
        "id": "292c3a2a"
      },
      "source": [
        "## Sigamos ahora con las operaciones de comparación\n",
        "\n",
        "Operador | Nombre | Ejemplo | Resultado |\n",
        ":--------: | :-------:| :--------: | :--------:\n",
        "**==** | Igual a | 5 == 5 | True\n",
        "**!=** | Distinto a | 5 != 5 | False\n",
        "**>** | Mayor a | 6 > 6 | False\n",
        "**>=** | Mayor o igual a | 6 >= 6 | True\n",
        "**<**  | Menor a | 45 < 50 | True\n",
        "**<=**  | Menor o igual a | 45 <= 44 | False\n",
        "\n",
        "### Ejemplo para evaluar si un valor es mayor que otro usando **if**\n"
      ]
    },
    {
      "cell_type": "code",
      "execution_count": null,
      "id": "aefc7c53",
      "metadata": {
        "id": "aefc7c53"
      },
      "outputs": [],
      "source": [
        "valor1 = int(input(\"ingrese valor 1: \"))"
      ]
    },
    {
      "cell_type": "code",
      "execution_count": null,
      "id": "8845cfe1",
      "metadata": {
        "id": "8845cfe1"
      },
      "outputs": [],
      "source": [
        "valor2 = int(input(\"ingrese valor 2: \"))"
      ]
    },
    {
      "cell_type": "code",
      "execution_count": null,
      "id": "8accb27a",
      "metadata": {
        "id": "8accb27a"
      },
      "outputs": [],
      "source": [
        "if valor1 > valor2:\n",
        "    print(\"valor1: {} ,es mayor a valor2\".format(valor1))\n",
        "else:\n",
        "    print(\"valor 1 es menor\")"
      ]
    },
    {
      "cell_type": "markdown",
      "id": "c3defcf0",
      "metadata": {
        "id": "c3defcf0"
      },
      "source": [
        "### Ejemplo para evaluar si un valor es mayor que otro usando **if** y **else** en caso contrario"
      ]
    },
    {
      "cell_type": "code",
      "execution_count": null,
      "id": "9470f53b",
      "metadata": {
        "id": "9470f53b"
      },
      "outputs": [],
      "source": [
        "valor1 = int(input(\"ingrese valor 1: \"))"
      ]
    },
    {
      "cell_type": "code",
      "execution_count": null,
      "id": "8bb54753",
      "metadata": {
        "id": "8bb54753"
      },
      "outputs": [],
      "source": [
        "valor2 = int(input(\"ingrese valor 2: \"))"
      ]
    },
    {
      "cell_type": "code",
      "execution_count": null,
      "id": "1677caf6",
      "metadata": {
        "id": "1677caf6"
      },
      "outputs": [],
      "source": [
        "if valor1 >= valor2:\n",
        "    if valor1 == valor2:\n",
        "        print(\"son iguales\")\n",
        "    elif valor1 > valor2:\n",
        "        print(\"valor1 {} es mayor\".format(valor1))\n",
        "else:\n",
        "    print(\"valor2 {} es mayor\".format(valor2))"
      ]
    },
    {
      "cell_type": "markdown",
      "id": "01ab6c8f",
      "metadata": {
        "id": "01ab6c8f"
      },
      "source": [
        "### ¿ Que pasa si ambos números son iguales?"
      ]
    },
    {
      "cell_type": "code",
      "execution_count": null,
      "id": "f13e324c",
      "metadata": {
        "id": "f13e324c"
      },
      "outputs": [],
      "source": [
        "valor1 = 300\n",
        "valor2 = 300\n",
        "if valor1 > valor2:\n",
        "    print(\"valor1 {} es mayor\".format(valor1))\n",
        "else:\n",
        "    if valor1 == valor2:\n",
        "        print(\"Ambos valores son iguales\")\n",
        "    else:\n",
        "        print(\"valor2 {} es mayor\".format(valor2))"
      ]
    },
    {
      "cell_type": "markdown",
      "id": "c1507cc5",
      "metadata": {
        "id": "c1507cc5"
      },
      "source": [
        "### Este código se puede reescribir usando elif"
      ]
    },
    {
      "cell_type": "code",
      "execution_count": null,
      "id": "d99bc874",
      "metadata": {
        "id": "d99bc874"
      },
      "outputs": [],
      "source": [
        "valor1 = 100\n",
        "valor2 = 100\n",
        "if valor1 > valor2:\n",
        "    print(\"valor1 {} es mayor\".format(valor1))\n",
        "elif valor1 == valor2:\n",
        "    print(\"Ambos valores son iguales\")\n",
        "else:\n",
        "    print(\"valor2 {} es mayor\".format(valor2))"
      ]
    },
    {
      "cell_type": "markdown",
      "source": [
        "# If y Elif\n",
        "Hay una diferencia fundamental, si usas `if` encadenados todas las expresiones son evaluadas siempre, por el contrario si usas `elif`, en el momento que una condición anterior (el if u otro elif se cumpla), ese elif no se evalúa siquiera.\n"
      ],
      "metadata": {
        "id": "Us0ryW1Dm0OP"
      },
      "id": "Us0ryW1Dm0OP"
    },
    {
      "cell_type": "code",
      "execution_count": null,
      "id": "ca087a47",
      "metadata": {
        "id": "ca087a47"
      },
      "outputs": [],
      "source": [
        "#Con if\n",
        "a = 15\n",
        "if a % 5 == 0:\n",
        "    print(f\"{a} es divisible entre 5\")\n",
        "if a % 3 == 0:\n",
        "    print(f\"{a} es divisible entre 3\")\n"
      ]
    },
    {
      "cell_type": "code",
      "source": [
        "#Con elif\n",
        "a = 15\n",
        "\n",
        "if a % 5 == 0:\n",
        "    print(f\"{a} es divisible entre 5\")\n",
        "elif a % 3 == 0:\n",
        "    print(f\"{a} es divisible entre 3\")"
      ],
      "metadata": {
        "id": "LeCjrZgynYMb"
      },
      "id": "LeCjrZgynYMb",
      "execution_count": null,
      "outputs": []
    },
    {
      "cell_type": "markdown",
      "source": [
        "### Operadores lógicos\n",
        "\n",
        "Operador | Nombre | Ejemplo | Resultado |\n",
        ":--------: | :-------:| :--------: | :------------------------:\n",
        "**&** | y (and)| False & True | Devuelve **False**. Si ambos son True, devuelve True\n",
        "**\\|** | o (or)| False \\| True | Devuelve **True**. Si al menos uno de True devuelve True\n",
        "**!=** | distinto de (not)| True != True| Devuelve **False**. Devuelve lo opuesto al resultado de la evaluación\n",
        "\n",
        "### Ejemplo\n"
      ],
      "metadata": {
        "id": "xcAXNiGqrEMN"
      },
      "id": "xcAXNiGqrEMN"
    },
    {
      "cell_type": "code",
      "source": [
        "edad = 22\n",
        "diestro = True\n",
        "if edad >= 18:\n",
        "    if diestro is True:\n",
        "        print (\"Usted es diestro y mayor de edad\")"
      ],
      "metadata": {
        "id": "SCVXrCGGqOGu"
      },
      "id": "SCVXrCGGqOGu",
      "execution_count": null,
      "outputs": []
    },
    {
      "cell_type": "code",
      "source": [
        "#Se puede escribir aplicando \"and\" en el if\n",
        "edad = 15\n",
        "diestro = True\n",
        "if edad >= 18 and diestro is True:\n",
        "    print (\"Usted es diestro y mayor de edad\")\n",
        "elif edad < 18 and diestro is True:\n",
        "    print (\"Usted es diestro y menor de edad\")"
      ],
      "metadata": {
        "id": "IRgXuY9rrIBD"
      },
      "id": "IRgXuY9rrIBD",
      "execution_count": null,
      "outputs": []
    },
    {
      "cell_type": "markdown",
      "source": [
        "### Listas\n",
        "Las listas son un tipo de variable que contienen distintas variables de cualquier tipo en su interior.\n"
      ],
      "metadata": {
        "id": "SL_kwlDJrVTA"
      },
      "id": "SL_kwlDJrVTA"
    },
    {
      "cell_type": "code",
      "source": [
        "lista1 = [1, 2, 3, 4]\n",
        "lista2 = [1.5, 6.3, 8.9]\n",
        "lista3 = ['Hola', 'mundo']\n",
        "\n",
        "print(lista1)\n",
        "print(lista2)\n",
        "print(lista3)"
      ],
      "metadata": {
        "id": "9YtRWHnhrLLv"
      },
      "id": "9YtRWHnhrLLv",
      "execution_count": null,
      "outputs": []
    },
    {
      "cell_type": "markdown",
      "source": [
        "Las listas pueden contener diferentes tipos de datos"
      ],
      "metadata": {
        "id": "qeGq2lWmrZ3c"
      },
      "id": "qeGq2lWmrZ3c"
    },
    {
      "cell_type": "code",
      "source": [
        "lista4 = [1, 'Hola, mundo!', 3.5]\n",
        "\n",
        "print(lista4)"
      ],
      "metadata": {
        "id": "0BzV2MFIrXA9"
      },
      "id": "0BzV2MFIrXA9",
      "execution_count": null,
      "outputs": []
    },
    {
      "cell_type": "code",
      "source": [
        "#Se puede definir una lista vacía \n",
        "lista_vacia = []"
      ],
      "metadata": {
        "id": "SpDW30Y9rb1Z"
      },
      "id": "SpDW30Y9rb1Z",
      "execution_count": null,
      "outputs": []
    },
    {
      "cell_type": "markdown",
      "source": [
        "De la misma manera que con los elementos de las cadenas de caracteres, se puede acceder a los elementos de las listas de la siguiente manera:"
      ],
      "metadata": {
        "id": "HRjVP57YrhNg"
      },
      "id": "HRjVP57YrhNg"
    },
    {
      "cell_type": "code",
      "source": [
        "print(lista4[0])\n",
        "print(lista4[1])\n",
        "print(lista4[2])"
      ],
      "metadata": {
        "id": "Ie8TWVXcrd41"
      },
      "id": "Ie8TWVXcrd41",
      "execution_count": null,
      "outputs": []
    },
    {
      "cell_type": "markdown",
      "source": [
        "También se puede cambiar un elemento de una lista"
      ],
      "metadata": {
        "id": "3bdAZW26ruSm"
      },
      "id": "3bdAZW26ruSm"
    },
    {
      "cell_type": "code",
      "source": [
        "# Lista con valores\n",
        "alumnos = [\"Maria\", \"Juan\", \"Pedro\", \"Diego\"]\n",
        "    \n",
        "# Acceder a elementos\n",
        "print(alumnos[0]) # muestra \"Maria\"\n",
        "print(alumnos[1]) # muestra \"Juan\"\n",
        "print(alumnos[2]) # muestra \"Pedro\"\n",
        "print(alumnos[-1]) # muestra \"Diego\"\n",
        "    \n",
        "# Cambiar un elemento\n",
        "alumnos[0] = \"Lily\" \n",
        "print (\"\\nCambio nombre a la posicion cero:\\n\")\n",
        "print (alumnos)"
      ],
      "metadata": {
        "id": "kWFgAeAcrjm6"
      },
      "id": "kWFgAeAcrjm6",
      "execution_count": null,
      "outputs": []
    },
    {
      "cell_type": "markdown",
      "source": [
        "Los **métodos más utilizados** con las listas son los siguientes:\n",
        "\n",
        "| Método | Acción |\n",
        "|--|--|\n",
        "| `alumnos.append(\"Javiera\")` | Inserta \"Javiera\" al final de la lista |\n",
        "| `alumnos.insert(0,\"Javiera\")` | Inserta \"Javiera\" en la posición 0 |\n",
        "| `alumnos.remove(\"Javiera\")` | Elimina la primera aparición de \"Javiera\" de la lista |\n",
        "| `alumnos.pop()` | Elimina el último elemento de la lista |\n",
        "| `alumnos.pop(3)` | Elimina el cuarto elemento de la lista |\n",
        "| `alumnos.clear()` | Elimina todos los elementos de la lista |\n",
        "| `alumnos.index(\"Javiera\")` | Devuelve el índice de la primera aparición de \"Javiera\" |\n",
        "| `alumnos.sort()` | Ordena la lista (los elementos deben ser comparables) |\n",
        "| `sorted(alumnos)` | Devuelve una copia de la lista 'alumnos' ordenada   |\n",
        "| `alumnos.reverse()` | Ordena la lista en orden inverso |\n",
        "| `alumnos.copy()` | Devuelve una copia de la lista |\n",
        "| `alumnos.extend(otra_lista)` | Fusiona las dos listas |\n"
      ],
      "metadata": {
        "id": "cwXv0sbOr9qx"
      },
      "id": "cwXv0sbOr9qx"
    },
    {
      "cell_type": "markdown",
      "source": [
        "Podemos usar \"+\" para concatenar listas:"
      ],
      "metadata": {
        "id": "ZoyGnYgJsCwh"
      },
      "id": "ZoyGnYgJsCwh"
    },
    {
      "cell_type": "code",
      "source": [
        "alumnos2 = alumnos + ['nuevo item']\n",
        "print(alumnos2)"
      ],
      "metadata": {
        "id": "nOOjbdQyr6I6"
      },
      "id": "nOOjbdQyr6I6",
      "execution_count": null,
      "outputs": []
    },
    {
      "cell_type": "markdown",
      "source": [
        "Y se puede duplicar con \"*\""
      ],
      "metadata": {
        "id": "TrbY67uYsH5q"
      },
      "id": "TrbY67uYsH5q"
    },
    {
      "cell_type": "code",
      "source": [
        "alumnos2 * 2"
      ],
      "metadata": {
        "id": "AixIVHU2sEUs"
      },
      "id": "AixIVHU2sEUs",
      "execution_count": null,
      "outputs": []
    },
    {
      "cell_type": "markdown",
      "source": [
        "### Iterar una lista"
      ],
      "metadata": {
        "id": "2RTOB2iAsN1w"
      },
      "id": "2RTOB2iAsN1w"
    },
    {
      "cell_type": "code",
      "source": [
        "new_list = alumnos2 * 2\n",
        "\n",
        "for l in new_list:\n",
        "    print(l)\n"
      ],
      "metadata": {
        "id": "LW9QgCGKsLFt"
      },
      "id": "LW9QgCGKsLFt",
      "execution_count": null,
      "outputs": []
    },
    {
      "cell_type": "markdown",
      "source": [
        "#### Otra forma de iterar es usando range\n"
      ],
      "metadata": {
        "id": "QodRlzX9sSVy"
      },
      "id": "QodRlzX9sSVy"
    },
    {
      "cell_type": "code",
      "source": [
        "lista1 = [5, 9, 10]\n",
        "for i in range(0, len(lista1)):\n",
        "    print(lista1[i])"
      ],
      "metadata": {
        "id": "I58tahQKsQhR"
      },
      "id": "I58tahQKsQhR",
      "execution_count": null,
      "outputs": []
    },
    {
      "cell_type": "markdown",
      "source": [
        "#### Y otra forma es usando while"
      ],
      "metadata": {
        "id": "Zx-uf1X_sXZ3"
      },
      "id": "Zx-uf1X_sXZ3"
    },
    {
      "cell_type": "code",
      "source": [
        "lista =  ['Python','JavaScript','JAVA']\n",
        "i = 0\n",
        "sizeofList = len(lista) \n",
        "\n",
        "while i < sizeofList :\n",
        "    print(\"Programo en\",lista[i]) \n",
        "    i += 1"
      ],
      "metadata": {
        "id": "LkVYOYx9sVRq"
      },
      "id": "LkVYOYx9sVRq",
      "execution_count": null,
      "outputs": []
    },
    {
      "cell_type": "markdown",
      "source": [
        "## Nos vemos la próxima clase, recuerda estudiar y practicar!"
      ],
      "metadata": {
        "id": "19qdTWK7v9RQ"
      },
      "id": "19qdTWK7v9RQ"
    },
    {
      "cell_type": "code",
      "source": [
        ""
      ],
      "metadata": {
        "id": "x4dQgyOnsZ34"
      },
      "id": "x4dQgyOnsZ34",
      "execution_count": null,
      "outputs": []
    }
  ],
  "metadata": {
    "kernelspec": {
      "display_name": "Python 3",
      "language": "python",
      "name": "python3"
    },
    "language_info": {
      "codemirror_mode": {
        "name": "ipython",
        "version": 3
      },
      "file_extension": ".py",
      "mimetype": "text/x-python",
      "name": "python",
      "nbconvert_exporter": "python",
      "pygments_lexer": "ipython3",
      "version": "3.8.13"
    },
    "colab": {
      "provenance": [],
      "name": "Clase2-IntroduccionPython1.ipynb",
      "collapsed_sections": [],
      "include_colab_link": true
    }
  },
  "nbformat": 4,
  "nbformat_minor": 5
}